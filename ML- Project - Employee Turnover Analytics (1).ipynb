{
 "cells": [
  {
   "cell_type": "markdown",
   "id": "a6fc266c-a2a6-4221-822a-a20733d19a1a",
   "metadata": {},
   "source": [
    "# Course-end Project : Employee Turnover Analytics"
   ]
  },
  {
   "cell_type": "markdown",
   "id": "dfb35a7c-8e55-4fd5-ba7b-6a14e8bb1238",
   "metadata": {},
   "source": [
    "## Project Statement :\n",
    "Portobello Tech is an app innovator who has devised an intelligent way of predicting employee turnover within the company. It periodically evaluates employees' work details, including the number of projects they worked on, average monthly working hours, time spent in the company, promotions in the last five years, and salary level.\n",
    "\n",
    "Data from prior evaluations shows the employees' satisfaction in the workplace. The data could be used to identify patterns in work style and their interrest in continuing to work for the company.\n",
    "\n",
    "The HR Department owns the data and uses it to predict employee turnover. Employee turnover refers to the total number of workers who leave a company over time.\n",
    "\n",
    "As the ML Developer assigned to the HR Department, you have been asked to create ML programs to :\n",
    "1. Perform data quality checks by checking for missing values, if any.\n",
    "2. Understand what factors contributed most to employee turnover at EDA.\n",
    "3. Perform clustering of employees who left based on their satisfaction and evaluation.\n",
    "4. Handle the left Class Imbalance using the SMOTE technique.\n",
    "5. Perform k-fold cross-validation model training and evaluate performance.\n",
    "6. Identify the best model and justify the evaluation mmetrics used.\n",
    "7. Suggest various retention strategies for targeted employees.\n",
    "ry in USD \r\n"
   ]
  },
  {
   "cell_type": "markdown",
   "id": "4379dc16-d85a-4b67-999b-7287de3620ed",
   "metadata": {},
   "source": [
    "## Details of the Datasets :\n",
    "\n",
    "- satisfaction_level : Satisfaction level at the job of an employee\n",
    "\n",
    "- last_evaluation : Rating between 0 and 1, received by an employee at his last evaluation.\n",
    "\n",
    "- number_project : The number of projects an employee is involved in\n",
    "\n",
    "- average_montly_hours : Average number of hours in a month spent by an employee at the office\n",
    "\n",
    "- time_spend_company : Number of years spent in the company\n",
    "\n",
    "- Work_accident : 0 - no accident during employee stay, 1 - accident during employee stay\n",
    "\n",
    "- left : 0\tindicates an employee stays with the company and \r\n",
    "1\tindicates an employee left the compan\n",
    "  \n",
    "- promotion_last_5years : Number of promotions in his stay\n",
    "\n",
    "- Department : Department to which an employee belongs to\n",
    " - salary : Salary in USD \r\n"
   ]
  },
  {
   "cell_type": "markdown",
   "id": "69df175a-e1df-49f1-bf75-4baf213583f9",
   "metadata": {},
   "source": [
    "## Steps to Perform:\n",
    "1. Perform data quality checks by checking for missing values, if any.\n",
    "\n",
    "2. Understand what factors contributed most to employee turnover at EDA.\n",
    "   - Draw a heatmap of the correlation matrix between all numerical features or columns in the data.\n",
    "   - Draw the distribution plot of:\n",
    "      - Employee Satisfaction (use column satisfaction_level)\n",
    "      - Employee Evaluation (use column last_evaluation)\n",
    "      - Employee \tAverage \tMonthly \tHours \t(use \tcolumn average_montly_hours)\n",
    "   - Draw the bar plot of the employee project count of both employees who left and stayed in the organization (use column number_project and hue column left), and give your inferences from the plot. \n",
    "\n",
    "3. Perform clustering of employees who left based on their satisfaction and evaluation.\n",
    "   - Choose columns satisfaction_level, last_evaluation, and left.\n",
    "   - Do K-means clustering of employees who left the company into 3 clusters?\n",
    "   - Based on the satisfaction and evaluation factors, give your thoughts on the employee clusters. \n",
    "\n",
    "4. Handle the left Class Imbalance using the SMOTE technique.\n",
    "   - Pre-process the data by converting categorical columns to numerical columns by:\n",
    "      - Separating categorical variables and numeric variables\n",
    "      - Applying get_dummies() to the categorical variables\n",
    "      - Combining categorical variables and numeric variables  \n",
    "   - Do the stratified split of the dataset to train and test in the ratio 80:20 with random_state=123.\n",
    "   - Upsample the train dataset using the SMOTE technique from the imblearn module.\n",
    "\n",
    "5. Perform 5-fold cross-validation model training and evaluate performance.\n",
    "   - Train a logistic regression model, apply a 5-fold CV, and plot the classification report.\n",
    "   - Train a Random Forest Classifier model, apply the 5-fold CV, and plot the classification report.\n",
    "   - Train a Gradient Boosting Classifier model, apply the 5-fold CV, and plot the classification report.\n",
    "  \n",
    "6. Identify the best model and justify the evaluation metrics used.\n",
    "   - Find the ROC/AUC for each model and plot the ROC curve.\n",
    "   - Find the confusion matrix for each of the models.\n",
    "   - Explain which metric needs to be used from the confusion matrix: \r\n",
    "Recall or Precision? \n",
    "7. Suggest various retention strategies for targeted employees.\n",
    "   - Using the best model, predict the probability of employee turnover in the test data.\n",
    "   - Based on the probability score range below, categorize the employees into four zones and suggest your thoughts on the retention strategies for each zone.\n",
    "      - Safe Zone (Green) (Score < 20%)\n",
    "      - Low-Risk Zone (Yellow) (20% < Score < 60%)\n",
    "      - Medium-Risk Zone (Orange) (60% < Score < 90%)\n",
    "      - High-Risk Zone (Red) (Score > 90%). \r\n"
   ]
  },
  {
   "cell_type": "markdown",
   "id": "e97795d9-20c3-473b-af51-97b239f54b94",
   "metadata": {},
   "source": [
    "### Import libraries"
   ]
  },
  {
   "cell_type": "code",
   "execution_count": 1,
   "id": "39ae5696-6cfa-4179-b4dd-08783ed62762",
   "metadata": {},
   "outputs": [],
   "source": [
    "import numpy as np\n",
    "import pandas as pd\n",
    "import matplotlib.pyplot as plt\n",
    "import seaborn as sns"
   ]
  },
  {
   "cell_type": "markdown",
   "id": "62a84a46-5d2d-4f43-9495-429806991fde",
   "metadata": {},
   "source": [
    "### Read in dataset"
   ]
  },
  {
   "cell_type": "code",
   "execution_count": 2,
   "id": "027d1dec-e7a7-4145-a2fe-661950aac3ea",
   "metadata": {},
   "outputs": [
    {
     "data": {
      "text/html": [
       "<div>\n",
       "<style scoped>\n",
       "    .dataframe tbody tr th:only-of-type {\n",
       "        vertical-align: middle;\n",
       "    }\n",
       "\n",
       "    .dataframe tbody tr th {\n",
       "        vertical-align: top;\n",
       "    }\n",
       "\n",
       "    .dataframe thead th {\n",
       "        text-align: right;\n",
       "    }\n",
       "</style>\n",
       "<table border=\"1\" class=\"dataframe\">\n",
       "  <thead>\n",
       "    <tr style=\"text-align: right;\">\n",
       "      <th></th>\n",
       "      <th>satisfaction_level</th>\n",
       "      <th>last_evaluation</th>\n",
       "      <th>number_project</th>\n",
       "      <th>average_montly_hours</th>\n",
       "      <th>time_spend_company</th>\n",
       "      <th>Work_accident</th>\n",
       "      <th>left</th>\n",
       "      <th>promotion_last_5years</th>\n",
       "      <th>sales</th>\n",
       "      <th>salary</th>\n",
       "    </tr>\n",
       "  </thead>\n",
       "  <tbody>\n",
       "    <tr>\n",
       "      <th>0</th>\n",
       "      <td>0.38</td>\n",
       "      <td>0.53</td>\n",
       "      <td>2</td>\n",
       "      <td>157</td>\n",
       "      <td>3</td>\n",
       "      <td>0</td>\n",
       "      <td>1</td>\n",
       "      <td>0</td>\n",
       "      <td>sales</td>\n",
       "      <td>low</td>\n",
       "    </tr>\n",
       "    <tr>\n",
       "      <th>1</th>\n",
       "      <td>0.80</td>\n",
       "      <td>0.86</td>\n",
       "      <td>5</td>\n",
       "      <td>262</td>\n",
       "      <td>6</td>\n",
       "      <td>0</td>\n",
       "      <td>1</td>\n",
       "      <td>0</td>\n",
       "      <td>sales</td>\n",
       "      <td>medium</td>\n",
       "    </tr>\n",
       "    <tr>\n",
       "      <th>2</th>\n",
       "      <td>0.11</td>\n",
       "      <td>0.88</td>\n",
       "      <td>7</td>\n",
       "      <td>272</td>\n",
       "      <td>4</td>\n",
       "      <td>0</td>\n",
       "      <td>1</td>\n",
       "      <td>0</td>\n",
       "      <td>sales</td>\n",
       "      <td>medium</td>\n",
       "    </tr>\n",
       "    <tr>\n",
       "      <th>3</th>\n",
       "      <td>0.72</td>\n",
       "      <td>0.87</td>\n",
       "      <td>5</td>\n",
       "      <td>223</td>\n",
       "      <td>5</td>\n",
       "      <td>0</td>\n",
       "      <td>1</td>\n",
       "      <td>0</td>\n",
       "      <td>sales</td>\n",
       "      <td>low</td>\n",
       "    </tr>\n",
       "    <tr>\n",
       "      <th>4</th>\n",
       "      <td>0.37</td>\n",
       "      <td>0.52</td>\n",
       "      <td>2</td>\n",
       "      <td>159</td>\n",
       "      <td>3</td>\n",
       "      <td>0</td>\n",
       "      <td>1</td>\n",
       "      <td>0</td>\n",
       "      <td>sales</td>\n",
       "      <td>low</td>\n",
       "    </tr>\n",
       "    <tr>\n",
       "      <th>...</th>\n",
       "      <td>...</td>\n",
       "      <td>...</td>\n",
       "      <td>...</td>\n",
       "      <td>...</td>\n",
       "      <td>...</td>\n",
       "      <td>...</td>\n",
       "      <td>...</td>\n",
       "      <td>...</td>\n",
       "      <td>...</td>\n",
       "      <td>...</td>\n",
       "    </tr>\n",
       "    <tr>\n",
       "      <th>14994</th>\n",
       "      <td>0.40</td>\n",
       "      <td>0.57</td>\n",
       "      <td>2</td>\n",
       "      <td>151</td>\n",
       "      <td>3</td>\n",
       "      <td>0</td>\n",
       "      <td>1</td>\n",
       "      <td>0</td>\n",
       "      <td>support</td>\n",
       "      <td>low</td>\n",
       "    </tr>\n",
       "    <tr>\n",
       "      <th>14995</th>\n",
       "      <td>0.37</td>\n",
       "      <td>0.48</td>\n",
       "      <td>2</td>\n",
       "      <td>160</td>\n",
       "      <td>3</td>\n",
       "      <td>0</td>\n",
       "      <td>1</td>\n",
       "      <td>0</td>\n",
       "      <td>support</td>\n",
       "      <td>low</td>\n",
       "    </tr>\n",
       "    <tr>\n",
       "      <th>14996</th>\n",
       "      <td>0.37</td>\n",
       "      <td>0.53</td>\n",
       "      <td>2</td>\n",
       "      <td>143</td>\n",
       "      <td>3</td>\n",
       "      <td>0</td>\n",
       "      <td>1</td>\n",
       "      <td>0</td>\n",
       "      <td>support</td>\n",
       "      <td>low</td>\n",
       "    </tr>\n",
       "    <tr>\n",
       "      <th>14997</th>\n",
       "      <td>0.11</td>\n",
       "      <td>0.96</td>\n",
       "      <td>6</td>\n",
       "      <td>280</td>\n",
       "      <td>4</td>\n",
       "      <td>0</td>\n",
       "      <td>1</td>\n",
       "      <td>0</td>\n",
       "      <td>support</td>\n",
       "      <td>low</td>\n",
       "    </tr>\n",
       "    <tr>\n",
       "      <th>14998</th>\n",
       "      <td>0.37</td>\n",
       "      <td>0.52</td>\n",
       "      <td>2</td>\n",
       "      <td>158</td>\n",
       "      <td>3</td>\n",
       "      <td>0</td>\n",
       "      <td>1</td>\n",
       "      <td>0</td>\n",
       "      <td>support</td>\n",
       "      <td>low</td>\n",
       "    </tr>\n",
       "  </tbody>\n",
       "</table>\n",
       "<p>14999 rows × 10 columns</p>\n",
       "</div>"
      ],
      "text/plain": [
       "       satisfaction_level  last_evaluation  number_project  \\\n",
       "0                    0.38             0.53               2   \n",
       "1                    0.80             0.86               5   \n",
       "2                    0.11             0.88               7   \n",
       "3                    0.72             0.87               5   \n",
       "4                    0.37             0.52               2   \n",
       "...                   ...              ...             ...   \n",
       "14994                0.40             0.57               2   \n",
       "14995                0.37             0.48               2   \n",
       "14996                0.37             0.53               2   \n",
       "14997                0.11             0.96               6   \n",
       "14998                0.37             0.52               2   \n",
       "\n",
       "       average_montly_hours  time_spend_company  Work_accident  left  \\\n",
       "0                       157                   3              0     1   \n",
       "1                       262                   6              0     1   \n",
       "2                       272                   4              0     1   \n",
       "3                       223                   5              0     1   \n",
       "4                       159                   3              0     1   \n",
       "...                     ...                 ...            ...   ...   \n",
       "14994                   151                   3              0     1   \n",
       "14995                   160                   3              0     1   \n",
       "14996                   143                   3              0     1   \n",
       "14997                   280                   4              0     1   \n",
       "14998                   158                   3              0     1   \n",
       "\n",
       "       promotion_last_5years    sales  salary  \n",
       "0                          0    sales     low  \n",
       "1                          0    sales  medium  \n",
       "2                          0    sales  medium  \n",
       "3                          0    sales     low  \n",
       "4                          0    sales     low  \n",
       "...                      ...      ...     ...  \n",
       "14994                      0  support     low  \n",
       "14995                      0  support     low  \n",
       "14996                      0  support     low  \n",
       "14997                      0  support     low  \n",
       "14998                      0  support     low  \n",
       "\n",
       "[14999 rows x 10 columns]"
      ]
     },
     "execution_count": 2,
     "metadata": {},
     "output_type": "execute_result"
    }
   ],
   "source": [
    "data = pd.read_csv('HR_comma_sep.csv')\n",
    "data"
   ]
  },
  {
   "cell_type": "code",
   "execution_count": 3,
   "id": "c2b38605-c942-4cee-ab83-9f42f7b98dfc",
   "metadata": {},
   "outputs": [],
   "source": [
    "data.rename(columns = {'sales': 'Department'}, inplace = True, errors = 'raise')"
   ]
  },
  {
   "cell_type": "markdown",
   "id": "2016f1dd-618f-46d8-8fb9-0e187b5d3794",
   "metadata": {},
   "source": [
    "#### The dimensionality of the Employee Turnover data is checked using pandas :: info() method"
   ]
  },
  {
   "cell_type": "code",
   "execution_count": 4,
   "id": "c191c138-7c6b-4bc5-86e6-6e883d4b0077",
   "metadata": {},
   "outputs": [
    {
     "name": "stdout",
     "output_type": "stream",
     "text": [
      "<class 'pandas.core.frame.DataFrame'>\n",
      "RangeIndex: 14999 entries, 0 to 14998\n",
      "Data columns (total 10 columns):\n",
      " #   Column                 Non-Null Count  Dtype  \n",
      "---  ------                 --------------  -----  \n",
      " 0   satisfaction_level     14999 non-null  float64\n",
      " 1   last_evaluation        14999 non-null  float64\n",
      " 2   number_project         14999 non-null  int64  \n",
      " 3   average_montly_hours   14999 non-null  int64  \n",
      " 4   time_spend_company     14999 non-null  int64  \n",
      " 5   Work_accident          14999 non-null  int64  \n",
      " 6   left                   14999 non-null  int64  \n",
      " 7   promotion_last_5years  14999 non-null  int64  \n",
      " 8   Department             14999 non-null  object \n",
      " 9   salary                 14999 non-null  object \n",
      "dtypes: float64(2), int64(6), object(2)\n",
      "memory usage: 1.1+ MB\n"
     ]
    }
   ],
   "source": [
    "data.info()"
   ]
  },
  {
   "cell_type": "markdown",
   "id": "596dfc9c-6820-49e2-9847-e9fe0d88630e",
   "metadata": {},
   "source": [
    "### Treating Missing Value"
   ]
  },
  {
   "cell_type": "code",
   "execution_count": 5,
   "id": "2159192c-6226-4fbb-afb4-6e22bfd06407",
   "metadata": {},
   "outputs": [
    {
     "data": {
      "text/plain": [
       "satisfaction_level       0\n",
       "last_evaluation          0\n",
       "number_project           0\n",
       "average_montly_hours     0\n",
       "time_spend_company       0\n",
       "Work_accident            0\n",
       "left                     0\n",
       "promotion_last_5years    0\n",
       "Department               0\n",
       "salary                   0\n",
       "dtype: int64"
      ]
     },
     "execution_count": 5,
     "metadata": {},
     "output_type": "execute_result"
    }
   ],
   "source": [
    "data.isnull().sum()"
   ]
  },
  {
   "cell_type": "markdown",
   "id": "07fff4ea-2e23-49bd-8a21-537b557006d7",
   "metadata": {},
   "source": [
    "#### From the above output it is clear that there are no missing values in the Employee Turnover data. The data contains 14,999 records and 10 columns/features."
   ]
  },
  {
   "cell_type": "markdown",
   "id": "d62362bd-fb07-4ead-92b7-7812f0d89248",
   "metadata": {},
   "source": [
    "### Treating duplicates"
   ]
  },
  {
   "cell_type": "code",
   "execution_count": 6,
   "id": "5047768f-51b0-42fc-9730-15b876e2952d",
   "metadata": {},
   "outputs": [
    {
     "data": {
      "text/plain": [
       "3008"
      ]
     },
     "execution_count": 6,
     "metadata": {},
     "output_type": "execute_result"
    }
   ],
   "source": [
    "data.duplicated().sum()"
   ]
  },
  {
   "cell_type": "code",
   "execution_count": 7,
   "id": "4d737103-156c-49dc-b5f3-94018c9b4eec",
   "metadata": {},
   "outputs": [],
   "source": [
    "data = data.drop_duplicates()"
   ]
  },
  {
   "cell_type": "code",
   "execution_count": 8,
   "id": "15aba8ee-9c65-4f95-b9c7-654028c84ed4",
   "metadata": {},
   "outputs": [
    {
     "data": {
      "text/plain": [
       "0"
      ]
     },
     "execution_count": 8,
     "metadata": {},
     "output_type": "execute_result"
    }
   ],
   "source": [
    "data.duplicated().sum()"
   ]
  },
  {
   "cell_type": "code",
   "execution_count": 9,
   "id": "75db8479-f4ba-43f1-9d34-a7b8a08fcbd7",
   "metadata": {},
   "outputs": [
    {
     "data": {
      "text/html": [
       "<div>\n",
       "<style scoped>\n",
       "    .dataframe tbody tr th:only-of-type {\n",
       "        vertical-align: middle;\n",
       "    }\n",
       "\n",
       "    .dataframe tbody tr th {\n",
       "        vertical-align: top;\n",
       "    }\n",
       "\n",
       "    .dataframe thead th {\n",
       "        text-align: right;\n",
       "    }\n",
       "</style>\n",
       "<table border=\"1\" class=\"dataframe\">\n",
       "  <thead>\n",
       "    <tr style=\"text-align: right;\">\n",
       "      <th></th>\n",
       "      <th>satisfaction_level</th>\n",
       "      <th>last_evaluation</th>\n",
       "      <th>number_project</th>\n",
       "      <th>average_montly_hours</th>\n",
       "      <th>time_spend_company</th>\n",
       "    </tr>\n",
       "  </thead>\n",
       "  <tbody>\n",
       "    <tr>\n",
       "      <th>0</th>\n",
       "      <td>0.38</td>\n",
       "      <td>0.53</td>\n",
       "      <td>2</td>\n",
       "      <td>157</td>\n",
       "      <td>3</td>\n",
       "    </tr>\n",
       "    <tr>\n",
       "      <th>1</th>\n",
       "      <td>0.80</td>\n",
       "      <td>0.86</td>\n",
       "      <td>5</td>\n",
       "      <td>262</td>\n",
       "      <td>6</td>\n",
       "    </tr>\n",
       "    <tr>\n",
       "      <th>2</th>\n",
       "      <td>0.11</td>\n",
       "      <td>0.88</td>\n",
       "      <td>7</td>\n",
       "      <td>272</td>\n",
       "      <td>4</td>\n",
       "    </tr>\n",
       "    <tr>\n",
       "      <th>3</th>\n",
       "      <td>0.72</td>\n",
       "      <td>0.87</td>\n",
       "      <td>5</td>\n",
       "      <td>223</td>\n",
       "      <td>5</td>\n",
       "    </tr>\n",
       "    <tr>\n",
       "      <th>4</th>\n",
       "      <td>0.37</td>\n",
       "      <td>0.52</td>\n",
       "      <td>2</td>\n",
       "      <td>159</td>\n",
       "      <td>3</td>\n",
       "    </tr>\n",
       "  </tbody>\n",
       "</table>\n",
       "</div>"
      ],
      "text/plain": [
       "   satisfaction_level  last_evaluation  number_project  average_montly_hours  \\\n",
       "0                0.38             0.53               2                   157   \n",
       "1                0.80             0.86               5                   262   \n",
       "2                0.11             0.88               7                   272   \n",
       "3                0.72             0.87               5                   223   \n",
       "4                0.37             0.52               2                   159   \n",
       "\n",
       "   time_spend_company  \n",
       "0                   3  \n",
       "1                   6  \n",
       "2                   4  \n",
       "3                   5  \n",
       "4                   3  "
      ]
     },
     "execution_count": 9,
     "metadata": {},
     "output_type": "execute_result"
    }
   ],
   "source": [
    "numeric_data = data.select_dtypes('number').drop(columns = ['Work_accident', 'left', 'promotion_last_5years'])\n",
    "numeric_data.head()"
   ]
  },
  {
   "cell_type": "code",
   "execution_count": 10,
   "id": "d2e4ab66-ea49-4599-8640-5b4ec9322876",
   "metadata": {},
   "outputs": [
    {
     "data": {
      "text/html": [
       "<div>\n",
       "<style scoped>\n",
       "    .dataframe tbody tr th:only-of-type {\n",
       "        vertical-align: middle;\n",
       "    }\n",
       "\n",
       "    .dataframe tbody tr th {\n",
       "        vertical-align: top;\n",
       "    }\n",
       "\n",
       "    .dataframe thead th {\n",
       "        text-align: right;\n",
       "    }\n",
       "</style>\n",
       "<table border=\"1\" class=\"dataframe\">\n",
       "  <thead>\n",
       "    <tr style=\"text-align: right;\">\n",
       "      <th></th>\n",
       "      <th>satisfaction_level</th>\n",
       "      <th>last_evaluation</th>\n",
       "      <th>number_project</th>\n",
       "      <th>average_montly_hours</th>\n",
       "      <th>time_spend_company</th>\n",
       "    </tr>\n",
       "  </thead>\n",
       "  <tbody>\n",
       "    <tr>\n",
       "      <th>satisfaction_level</th>\n",
       "      <td>1.000000</td>\n",
       "      <td>0.095186</td>\n",
       "      <td>-0.133246</td>\n",
       "      <td>-0.006252</td>\n",
       "      <td>-0.152915</td>\n",
       "    </tr>\n",
       "    <tr>\n",
       "      <th>last_evaluation</th>\n",
       "      <td>0.095186</td>\n",
       "      <td>1.000000</td>\n",
       "      <td>0.270256</td>\n",
       "      <td>0.264678</td>\n",
       "      <td>0.096829</td>\n",
       "    </tr>\n",
       "    <tr>\n",
       "      <th>number_project</th>\n",
       "      <td>-0.133246</td>\n",
       "      <td>0.270256</td>\n",
       "      <td>1.000000</td>\n",
       "      <td>0.331516</td>\n",
       "      <td>0.188837</td>\n",
       "    </tr>\n",
       "    <tr>\n",
       "      <th>average_montly_hours</th>\n",
       "      <td>-0.006252</td>\n",
       "      <td>0.264678</td>\n",
       "      <td>0.331516</td>\n",
       "      <td>1.000000</td>\n",
       "      <td>0.102875</td>\n",
       "    </tr>\n",
       "    <tr>\n",
       "      <th>time_spend_company</th>\n",
       "      <td>-0.152915</td>\n",
       "      <td>0.096829</td>\n",
       "      <td>0.188837</td>\n",
       "      <td>0.102875</td>\n",
       "      <td>1.000000</td>\n",
       "    </tr>\n",
       "  </tbody>\n",
       "</table>\n",
       "</div>"
      ],
      "text/plain": [
       "                      satisfaction_level  last_evaluation  number_project  \\\n",
       "satisfaction_level              1.000000         0.095186       -0.133246   \n",
       "last_evaluation                 0.095186         1.000000        0.270256   \n",
       "number_project                 -0.133246         0.270256        1.000000   \n",
       "average_montly_hours           -0.006252         0.264678        0.331516   \n",
       "time_spend_company             -0.152915         0.096829        0.188837   \n",
       "\n",
       "                      average_montly_hours  time_spend_company  \n",
       "satisfaction_level               -0.006252           -0.152915  \n",
       "last_evaluation                   0.264678            0.096829  \n",
       "number_project                    0.331516            0.188837  \n",
       "average_montly_hours              1.000000            0.102875  \n",
       "time_spend_company                0.102875            1.000000  "
      ]
     },
     "execution_count": 10,
     "metadata": {},
     "output_type": "execute_result"
    }
   ],
   "source": [
    "data_corr_matrix = numeric_data.corr()\n",
    "data_corr_matrix"
   ]
  },
  {
   "cell_type": "code",
   "execution_count": 11,
   "id": "fbcbf749-2443-48d0-b9cb-b605a36b1180",
   "metadata": {},
   "outputs": [
    {
     "data": {
      "image/png": "[encoded data removed]",
      "text/plain": [
       "<Figure size 640x480 with 2 Axes>"
      ]
     },
     "metadata": {},
     "output_type": "display_data"
    }
   ],
   "source": [
    "sns.heatmap(data_corr_matrix, annot = True, cmap = 'coolwarm', fmt = '0.2f', linewidths = 0.5)\n",
    "plt.title(\"Heatmap of Employee Turnover Numerical Data\")\n",
    "plt.show()"
   ]
  },
  {
   "cell_type": "markdown",
   "id": "dbebd3f7-64da-4584-a052-206edb55bd65",
   "metadata": {},
   "source": [
    "#### The following observation can be made from the above heatmap:\n",
    "\n",
    "- There is significant +ve correlation between **\"average_monthly_hours\"** and **\"number_project\"**. As the number of projects worked by the employee increases, the number of hours worked monthly by the employee increases as well.\n",
    "\n",
    "- There is significant +ve correlation between **\"average_monthly_hours\"** and **\"last_evaluation\"**.  As the monthly hours worked by the employee increases, the last evaluation score of the employee increases as well.\n",
    "\n",
    "- There is a significant +ve correlation between **\"number_project\"*** and **\"last_evaluation\"**. As the number of projects worked by employee increases, his evaluation score increases.\n",
    "\n",
    "- There is a slightly +ve corelation between **\"time_spend_company\"** and **\"number_project\"**. As the employee spends more time with the company, he works in more number of projects as well.\n",
    "\n",
    "- There is a slight -ve corelation between **\"number_project\"** and **\"satisfaction_level\"**. As the employee worls on more projects, his satisfaction level decreases."
   ]
  },
  {
   "cell_type": "markdown",
   "id": "6938773a-af96-45b1-ba12-34c392369ca0",
   "metadata": {},
   "source": [
    "### Review data distribution for specific columns"
   ]
  },
  {
   "cell_type": "markdown",
   "id": "b2a36718-6d60-41d2-b7b3-a3369a9c87a9",
   "metadata": {},
   "source": [
    "#### Data distribution of employee satisfaction levels"
   ]
  },
  {
   "cell_type": "code",
   "execution_count": 12,
   "id": "df5c4c23-6e8f-494b-9d10-f081070373a3",
   "metadata": {},
   "outputs": [
    {
     "name": "stderr",
     "output_type": "stream",
     "text": [
      "D:\\New folder\\Lib\\site-packages\\seaborn\\_oldcore.py:1119: FutureWarning: use_inf_as_na option is deprecated and will be removed in a future version. Convert inf values to NaN before operating instead.\n",
      "  with pd.option_context('mode.use_inf_as_na', True):\n"
     ]
    },
    {
     "data": {
      "image/png": "[encoded data removed]",
      "text/plain": [
       "<Figure size 500x500 with 1 Axes>"
      ]
     },
     "metadata": {},
     "output_type": "display_data"
    }
   ],
   "source": [
    "sns.displot(x ='satisfaction_level', data = data, kde = True, bins = 50)\n",
    "plt.xlabel(\"Satisfaction Level\")\n",
    "plt.ylabel(\"Employee Count\")\n",
    "plt.title(\"Employee Satisfaction Distrubution\")\n",
    "plt.show()"
   ]
  },
  {
   "cell_type": "markdown",
   "id": "5141af0f-1026-4664-80a4-4adc704f6838",
   "metadata": {},
   "source": [
    "#### The following observations can be made about the employee satisfaction distribution curve:\r\n",
    "- The employee satisfaction data distribution shows a vast majority of employees have high satisfaction levels (>=0.5)\n",
    "\n",
    "- The employee satisfaction data distribution shows a significant number of employees having satisfaction levels close to 0o 0"
   ]
  },
  {
   "cell_type": "markdown",
   "id": "4f22e057-ed42-4833-a933-684f16bbecdc",
   "metadata": {},
   "source": [
    "### Data distribution of employee evaluation"
   ]
  },
  {
   "cell_type": "code",
   "execution_count": 13,
   "id": "82cbe2df-09f1-40ab-8ac4-9982f675927a",
   "metadata": {},
   "outputs": [
    {
     "name": "stderr",
     "output_type": "stream",
     "text": [
      "D:\\New folder\\Lib\\site-packages\\seaborn\\_oldcore.py:1119: FutureWarning: use_inf_as_na option is deprecated and will be removed in a future version. Convert inf values to NaN before operating instead.\n",
      "  with pd.option_context('mode.use_inf_as_na', True):\n"
     ]
    },
    {
     "data": {
      "image/png": "[encoded data removed]",
      "text/plain": [
       "<Figure size 500x500 with 1 Axes>"
      ]
     },
     "metadata": {},
     "output_type": "display_data"
    }
   ],
   "source": [
    "sns.displot(x ='last_evaluation', data = data, kde = True, bins = 50)\n",
    "plt.xlabel(\"Last Evaluation Score\")\n",
    "plt.ylabel(\"Employee Count\")\n",
    "plt.title(\"Employee Last Evaluation Distrubution\")\n",
    "plt.show()"
   ]
  },
  {
   "cell_type": "markdown",
   "id": "e87c65f7-2bd0-4f55-a7e2-3c66940582d8",
   "metadata": {},
   "source": [
    "#### The following observations can be made about the employee last evaluation curve:\n",
    "\n",
    "- A large number of employees are rated 0.5 and between 0.8-0.9\n",
    "\n",
    "- Hardly any employees are evaluated less than 0.4\n",
    "\n",
    "- Employees rated in the 0.6-0.8 evaluation levels are lesser compared to 0.5 and 08/0.9"
   ]
  },
  {
   "cell_type": "code",
   "execution_count": 14,
   "id": "89db65d5-10a5-4ba4-a8b6-315b8de72de5",
   "metadata": {},
   "outputs": [],
   "source": [
    "### Data distribution of monthly hours worked"
   ]
  },
  {
   "cell_type": "code",
   "execution_count": 15,
   "id": "954bfd6e-02cd-4a64-b2eb-7101ddf69691",
   "metadata": {},
   "outputs": [
    {
     "name": "stderr",
     "output_type": "stream",
     "text": [
      "D:\\New folder\\Lib\\site-packages\\seaborn\\_oldcore.py:1119: FutureWarning: use_inf_as_na option is deprecated and will be removed in a future version. Convert inf values to NaN before operating instead.\n",
      "  with pd.option_context('mode.use_inf_as_na', True):\n"
     ]
    },
    {
     "data": {
      "image/png": "[encoded data removed]",
      "text/plain": [
       "<Figure size 500x500 with 1 Axes>"
      ]
     },
     "metadata": {},
     "output_type": "display_data"
    }
   ],
   "source": [
    "sns.displot(x ='average_montly_hours', data = data, kde = True, bins = 50)\n",
    "plt.xlabel(\"Average Monthly Hours Worked\")\n",
    "plt.ylabel(\"Employee Count\")\n",
    "plt.title(\"Employee Average Monthly Hours Worked Distrubution\")\n",
    "plt.show()"
   ]
  },
  {
   "cell_type": "markdown",
   "id": "2a3fe310-e48e-42b5-8443-6753ea045050",
   "metadata": {},
   "source": [
    "#### The following observations can be made about the employee average monthly hours worked curve:\n",
    "\n",
    "- A large number of employees work around 150 hours per month and similar amount of employees work around 250+ hours per month.\n",
    "\n",
    "- Quite a lot of employees work between 180-220 hours per month.\n",
    "\n",
    "- Very less number of employees work lesser than 130 hours or greater than 280 hours per month."
   ]
  },
  {
   "cell_type": "markdown",
   "id": "7ea7d1f3-42db-452e-9c8d-11b5d51ac13f",
   "metadata": {},
   "source": [
    "### Employee status relationship with number of projects worked in"
   ]
  },
  {
   "cell_type": "code",
   "execution_count": 16,
   "id": "04f7c221-e024-4379-8a66-a14d5de04a56",
   "metadata": {},
   "outputs": [
    {
     "data": {
      "image/png": "[encoded data removed]",
      "text/plain": [
       "<Figure size 640x480 with 1 Axes>"
      ]
     },
     "metadata": {},
     "output_type": "display_data"
    }
   ],
   "source": [
    "sns.countplot(x = \"number_project\", hue = \"left\", data = data.astype(str))\n",
    "plt.xlabel(\"Projects Employee is involved in\")\n",
    "plt.ylabel(\"Employees\")\n",
    "plt.title(\"Project Count by Employee Status\")\n",
    "plt.show()"
   ]
  },
  {
   "cell_type": "markdown",
   "id": "b3df9831-91e7-4420-9463-728c2c678c94",
   "metadata": {},
   "source": [
    "#### From this visualization the following observations can be made:\n",
    "\n",
    "- Employees who work between 3-5 projects typically stay with the company.\n",
    "\n",
    "- Employees who work in 2, 6 or 7 projects leave the company"
   ]
  },
  {
   "cell_type": "markdown",
   "id": "bc7b5137-ccf4-42dd-8955-3a649b884174",
   "metadata": {},
   "source": [
    "### Clustering of employees"
   ]
  },
  {
   "cell_type": "code",
   "execution_count": 17,
   "id": "bc5cdf20-71c9-4e17-ab67-07d00a67b06d",
   "metadata": {},
   "outputs": [],
   "source": [
    "from sklearn.cluster import KMeans"
   ]
  },
  {
   "cell_type": "code",
   "execution_count": 18,
   "id": "431cc7e7-4d78-47b6-ad08-ab307754b332",
   "metadata": {},
   "outputs": [
    {
     "data": {
      "text/html": [
       "<div>\n",
       "<style scoped>\n",
       "    .dataframe tbody tr th:only-of-type {\n",
       "        vertical-align: middle;\n",
       "    }\n",
       "\n",
       "    .dataframe tbody tr th {\n",
       "        vertical-align: top;\n",
       "    }\n",
       "\n",
       "    .dataframe thead th {\n",
       "        text-align: right;\n",
       "    }\n",
       "</style>\n",
       "<table border=\"1\" class=\"dataframe\">\n",
       "  <thead>\n",
       "    <tr style=\"text-align: right;\">\n",
       "      <th></th>\n",
       "      <th>satisfaction_level</th>\n",
       "      <th>last_evaluation</th>\n",
       "      <th>left</th>\n",
       "    </tr>\n",
       "  </thead>\n",
       "  <tbody>\n",
       "    <tr>\n",
       "      <th>0</th>\n",
       "      <td>0.38</td>\n",
       "      <td>0.53</td>\n",
       "      <td>1</td>\n",
       "    </tr>\n",
       "    <tr>\n",
       "      <th>1</th>\n",
       "      <td>0.80</td>\n",
       "      <td>0.86</td>\n",
       "      <td>1</td>\n",
       "    </tr>\n",
       "    <tr>\n",
       "      <th>2</th>\n",
       "      <td>0.11</td>\n",
       "      <td>0.88</td>\n",
       "      <td>1</td>\n",
       "    </tr>\n",
       "    <tr>\n",
       "      <th>3</th>\n",
       "      <td>0.72</td>\n",
       "      <td>0.87</td>\n",
       "      <td>1</td>\n",
       "    </tr>\n",
       "    <tr>\n",
       "      <th>4</th>\n",
       "      <td>0.37</td>\n",
       "      <td>0.52</td>\n",
       "      <td>1</td>\n",
       "    </tr>\n",
       "    <tr>\n",
       "      <th>...</th>\n",
       "      <td>...</td>\n",
       "      <td>...</td>\n",
       "      <td>...</td>\n",
       "    </tr>\n",
       "    <tr>\n",
       "      <th>1995</th>\n",
       "      <td>0.37</td>\n",
       "      <td>0.57</td>\n",
       "      <td>1</td>\n",
       "    </tr>\n",
       "    <tr>\n",
       "      <th>1996</th>\n",
       "      <td>0.11</td>\n",
       "      <td>0.92</td>\n",
       "      <td>1</td>\n",
       "    </tr>\n",
       "    <tr>\n",
       "      <th>1997</th>\n",
       "      <td>0.41</td>\n",
       "      <td>0.53</td>\n",
       "      <td>1</td>\n",
       "    </tr>\n",
       "    <tr>\n",
       "      <th>1998</th>\n",
       "      <td>0.84</td>\n",
       "      <td>0.96</td>\n",
       "      <td>1</td>\n",
       "    </tr>\n",
       "    <tr>\n",
       "      <th>1999</th>\n",
       "      <td>0.40</td>\n",
       "      <td>0.51</td>\n",
       "      <td>1</td>\n",
       "    </tr>\n",
       "  </tbody>\n",
       "</table>\n",
       "<p>1991 rows × 3 columns</p>\n",
       "</div>"
      ],
      "text/plain": [
       "      satisfaction_level  last_evaluation  left\n",
       "0                   0.38             0.53     1\n",
       "1                   0.80             0.86     1\n",
       "2                   0.11             0.88     1\n",
       "3                   0.72             0.87     1\n",
       "4                   0.37             0.52     1\n",
       "...                  ...              ...   ...\n",
       "1995                0.37             0.57     1\n",
       "1996                0.11             0.92     1\n",
       "1997                0.41             0.53     1\n",
       "1998                0.84             0.96     1\n",
       "1999                0.40             0.51     1\n",
       "\n",
       "[1991 rows x 3 columns]"
      ]
     },
     "execution_count": 18,
     "metadata": {},
     "output_type": "execute_result"
    }
   ],
   "source": [
    "df = data[data['left']==1].loc[:,['satisfaction_level', 'last_evaluation', 'left']]\n",
    "df"
   ]
  },
  {
   "cell_type": "code",
   "execution_count": 19,
   "id": "7de72e5d-0b4e-41f8-b14a-3385139a8ee4",
   "metadata": {},
   "outputs": [
    {
     "name": "stderr",
     "output_type": "stream",
     "text": [
      "D:\\New folder\\Lib\\site-packages\\sklearn\\cluster\\_kmeans.py:870: FutureWarning: The default value of `n_init` will change from 10 to 'auto' in 1.4. Set the value of `n_init` explicitly to suppress the warning\n",
      "  warnings.warn(\n"
     ]
    }
   ],
   "source": [
    "newmodel = KMeans(n_clusters = 3, random_state = 25)\n",
    "y_kmeans = newmodel.fit_predict(df)"
   ]
  },
  {
   "cell_type": "code",
   "execution_count": 20,
   "id": "71366840-0f37-496c-ac2c-430c9805c6c5",
   "metadata": {},
   "outputs": [
    {
     "data": {
      "text/plain": [
       "array([[0.80587387, 0.91257658, 1.        ],\n",
       "       [0.41013304, 0.51719512, 1.        ],\n",
       "       [0.1111985 , 0.86906367, 1.        ]])"
      ]
     },
     "execution_count": 20,
     "metadata": {},
     "output_type": "execute_result"
    }
   ],
   "source": [
    "newmodel.cluster_centers_"
   ]
  },
  {
   "cell_type": "code",
   "execution_count": 21,
   "id": "710ecea3-7c28-434e-938c-fc5a7065c1b6",
   "metadata": {},
   "outputs": [
    {
     "data": {
      "image/png": "[encoded data removed]",
      "text/plain": [
       "<Figure size 640x480 with 1 Axes>"
      ]
     },
     "metadata": {},
     "output_type": "display_data"
    }
   ],
   "source": [
    "plt.scatter(df.satisfaction_level, df.last_evaluation, c = y_kmeans, s = 10)\n",
    "plt.xlabel(\"Satisfaction Level\")\n",
    "plt.ylabel(\"Last Evaluation\")\n",
    "plt.gca().set_axisbelow(True)\n",
    "plt.grid()\n",
    "plt.scatter(newmodel.cluster_centers_[:,0], newmodel.cluster_centers_[:,1],  c = 'red')\n",
    "plt.show()"
   ]
  },
  {
   "cell_type": "markdown",
   "id": "ad2a158c-de03-4bc3-8546-b5b501270b38",
   "metadata": {},
   "source": [
    "#### From the visual the following observations can be made:\n",
    "\n",
    "- The does not seem to be any corelation of the last evaluation on the employee satisfaction levels. That is because there are two clusters having roughly yhe same employee evaluation scores but diametrically opposite satisfaction levels.\n",
    "\n",
    "- As expected, there is one cluster where a lower last evaluation score results in low-to-mid satisfaction levels."
   ]
  },
  {
   "cell_type": "markdown",
   "id": "14b4e0ef-ae5a-4ec6-8d11-86bc2ea72fd3",
   "metadata": {},
   "source": [
    "### Pre-Process data"
   ]
  },
  {
   "cell_type": "code",
   "execution_count": 22,
   "id": "b84952f6-1fa1-4b35-9de3-be942433bad9",
   "metadata": {},
   "outputs": [
    {
     "data": {
      "text/html": [
       "<div>\n",
       "<style scoped>\n",
       "    .dataframe tbody tr th:only-of-type {\n",
       "        vertical-align: middle;\n",
       "    }\n",
       "\n",
       "    .dataframe tbody tr th {\n",
       "        vertical-align: top;\n",
       "    }\n",
       "\n",
       "    .dataframe thead th {\n",
       "        text-align: right;\n",
       "    }\n",
       "</style>\n",
       "<table border=\"1\" class=\"dataframe\">\n",
       "  <thead>\n",
       "    <tr style=\"text-align: right;\">\n",
       "      <th></th>\n",
       "      <th>satisfaction_level</th>\n",
       "      <th>last_evaluation</th>\n",
       "      <th>number_project</th>\n",
       "      <th>average_montly_hours</th>\n",
       "      <th>time_spend_company</th>\n",
       "      <th>Work_accident</th>\n",
       "      <th>left</th>\n",
       "      <th>promotion_last_5years</th>\n",
       "    </tr>\n",
       "  </thead>\n",
       "  <tbody>\n",
       "    <tr>\n",
       "      <th>0</th>\n",
       "      <td>0.38</td>\n",
       "      <td>0.53</td>\n",
       "      <td>2</td>\n",
       "      <td>157</td>\n",
       "      <td>3</td>\n",
       "      <td>0</td>\n",
       "      <td>1</td>\n",
       "      <td>0</td>\n",
       "    </tr>\n",
       "    <tr>\n",
       "      <th>1</th>\n",
       "      <td>0.80</td>\n",
       "      <td>0.86</td>\n",
       "      <td>5</td>\n",
       "      <td>262</td>\n",
       "      <td>6</td>\n",
       "      <td>0</td>\n",
       "      <td>1</td>\n",
       "      <td>0</td>\n",
       "    </tr>\n",
       "    <tr>\n",
       "      <th>2</th>\n",
       "      <td>0.11</td>\n",
       "      <td>0.88</td>\n",
       "      <td>7</td>\n",
       "      <td>272</td>\n",
       "      <td>4</td>\n",
       "      <td>0</td>\n",
       "      <td>1</td>\n",
       "      <td>0</td>\n",
       "    </tr>\n",
       "    <tr>\n",
       "      <th>3</th>\n",
       "      <td>0.72</td>\n",
       "      <td>0.87</td>\n",
       "      <td>5</td>\n",
       "      <td>223</td>\n",
       "      <td>5</td>\n",
       "      <td>0</td>\n",
       "      <td>1</td>\n",
       "      <td>0</td>\n",
       "    </tr>\n",
       "    <tr>\n",
       "      <th>4</th>\n",
       "      <td>0.37</td>\n",
       "      <td>0.52</td>\n",
       "      <td>2</td>\n",
       "      <td>159</td>\n",
       "      <td>3</td>\n",
       "      <td>0</td>\n",
       "      <td>1</td>\n",
       "      <td>0</td>\n",
       "    </tr>\n",
       "    <tr>\n",
       "      <th>...</th>\n",
       "      <td>...</td>\n",
       "      <td>...</td>\n",
       "      <td>...</td>\n",
       "      <td>...</td>\n",
       "      <td>...</td>\n",
       "      <td>...</td>\n",
       "      <td>...</td>\n",
       "      <td>...</td>\n",
       "    </tr>\n",
       "    <tr>\n",
       "      <th>11995</th>\n",
       "      <td>0.90</td>\n",
       "      <td>0.55</td>\n",
       "      <td>3</td>\n",
       "      <td>259</td>\n",
       "      <td>10</td>\n",
       "      <td>1</td>\n",
       "      <td>0</td>\n",
       "      <td>1</td>\n",
       "    </tr>\n",
       "    <tr>\n",
       "      <th>11996</th>\n",
       "      <td>0.74</td>\n",
       "      <td>0.95</td>\n",
       "      <td>5</td>\n",
       "      <td>266</td>\n",
       "      <td>10</td>\n",
       "      <td>0</td>\n",
       "      <td>0</td>\n",
       "      <td>1</td>\n",
       "    </tr>\n",
       "    <tr>\n",
       "      <th>11997</th>\n",
       "      <td>0.85</td>\n",
       "      <td>0.54</td>\n",
       "      <td>3</td>\n",
       "      <td>185</td>\n",
       "      <td>10</td>\n",
       "      <td>0</td>\n",
       "      <td>0</td>\n",
       "      <td>1</td>\n",
       "    </tr>\n",
       "    <tr>\n",
       "      <th>11998</th>\n",
       "      <td>0.33</td>\n",
       "      <td>0.65</td>\n",
       "      <td>3</td>\n",
       "      <td>172</td>\n",
       "      <td>10</td>\n",
       "      <td>0</td>\n",
       "      <td>0</td>\n",
       "      <td>1</td>\n",
       "    </tr>\n",
       "    <tr>\n",
       "      <th>11999</th>\n",
       "      <td>0.50</td>\n",
       "      <td>0.73</td>\n",
       "      <td>4</td>\n",
       "      <td>180</td>\n",
       "      <td>3</td>\n",
       "      <td>0</td>\n",
       "      <td>0</td>\n",
       "      <td>0</td>\n",
       "    </tr>\n",
       "  </tbody>\n",
       "</table>\n",
       "<p>11991 rows × 8 columns</p>\n",
       "</div>"
      ],
      "text/plain": [
       "       satisfaction_level  last_evaluation  number_project  \\\n",
       "0                    0.38             0.53               2   \n",
       "1                    0.80             0.86               5   \n",
       "2                    0.11             0.88               7   \n",
       "3                    0.72             0.87               5   \n",
       "4                    0.37             0.52               2   \n",
       "...                   ...              ...             ...   \n",
       "11995                0.90             0.55               3   \n",
       "11996                0.74             0.95               5   \n",
       "11997                0.85             0.54               3   \n",
       "11998                0.33             0.65               3   \n",
       "11999                0.50             0.73               4   \n",
       "\n",
       "       average_montly_hours  time_spend_company  Work_accident  left  \\\n",
       "0                       157                   3              0     1   \n",
       "1                       262                   6              0     1   \n",
       "2                       272                   4              0     1   \n",
       "3                       223                   5              0     1   \n",
       "4                       159                   3              0     1   \n",
       "...                     ...                 ...            ...   ...   \n",
       "11995                   259                  10              1     0   \n",
       "11996                   266                  10              0     0   \n",
       "11997                   185                  10              0     0   \n",
       "11998                   172                  10              0     0   \n",
       "11999                   180                   3              0     0   \n",
       "\n",
       "       promotion_last_5years  \n",
       "0                          0  \n",
       "1                          0  \n",
       "2                          0  \n",
       "3                          0  \n",
       "4                          0  \n",
       "...                      ...  \n",
       "11995                      1  \n",
       "11996                      1  \n",
       "11997                      1  \n",
       "11998                      1  \n",
       "11999                      0  \n",
       "\n",
       "[11991 rows x 8 columns]"
      ]
     },
     "execution_count": 22,
     "metadata": {},
     "output_type": "execute_result"
    }
   ],
   "source": [
    "num_data = data.select_dtypes('number')\n",
    "num_data"
   ]
  },
  {
   "cell_type": "code",
   "execution_count": 23,
   "id": "e5c69c1f-7c55-47dd-a17b-417363ba7693",
   "metadata": {
    "scrolled": true
   },
   "outputs": [
    {
     "data": {
      "text/html": [
       "<div>\n",
       "<style scoped>\n",
       "    .dataframe tbody tr th:only-of-type {\n",
       "        vertical-align: middle;\n",
       "    }\n",
       "\n",
       "    .dataframe tbody tr th {\n",
       "        vertical-align: top;\n",
       "    }\n",
       "\n",
       "    .dataframe thead th {\n",
       "        text-align: right;\n",
       "    }\n",
       "</style>\n",
       "<table border=\"1\" class=\"dataframe\">\n",
       "  <thead>\n",
       "    <tr style=\"text-align: right;\">\n",
       "      <th></th>\n",
       "      <th>Department</th>\n",
       "      <th>salary</th>\n",
       "    </tr>\n",
       "  </thead>\n",
       "  <tbody>\n",
       "    <tr>\n",
       "      <th>0</th>\n",
       "      <td>sales</td>\n",
       "      <td>low</td>\n",
       "    </tr>\n",
       "    <tr>\n",
       "      <th>1</th>\n",
       "      <td>sales</td>\n",
       "      <td>medium</td>\n",
       "    </tr>\n",
       "    <tr>\n",
       "      <th>2</th>\n",
       "      <td>sales</td>\n",
       "      <td>medium</td>\n",
       "    </tr>\n",
       "    <tr>\n",
       "      <th>3</th>\n",
       "      <td>sales</td>\n",
       "      <td>low</td>\n",
       "    </tr>\n",
       "    <tr>\n",
       "      <th>4</th>\n",
       "      <td>sales</td>\n",
       "      <td>low</td>\n",
       "    </tr>\n",
       "    <tr>\n",
       "      <th>...</th>\n",
       "      <td>...</td>\n",
       "      <td>...</td>\n",
       "    </tr>\n",
       "    <tr>\n",
       "      <th>11995</th>\n",
       "      <td>management</td>\n",
       "      <td>high</td>\n",
       "    </tr>\n",
       "    <tr>\n",
       "      <th>11996</th>\n",
       "      <td>management</td>\n",
       "      <td>high</td>\n",
       "    </tr>\n",
       "    <tr>\n",
       "      <th>11997</th>\n",
       "      <td>management</td>\n",
       "      <td>high</td>\n",
       "    </tr>\n",
       "    <tr>\n",
       "      <th>11998</th>\n",
       "      <td>marketing</td>\n",
       "      <td>high</td>\n",
       "    </tr>\n",
       "    <tr>\n",
       "      <th>11999</th>\n",
       "      <td>IT</td>\n",
       "      <td>low</td>\n",
       "    </tr>\n",
       "  </tbody>\n",
       "</table>\n",
       "<p>11991 rows × 2 columns</p>\n",
       "</div>"
      ],
      "text/plain": [
       "       Department  salary\n",
       "0           sales     low\n",
       "1           sales  medium\n",
       "2           sales  medium\n",
       "3           sales     low\n",
       "4           sales     low\n",
       "...           ...     ...\n",
       "11995  management    high\n",
       "11996  management    high\n",
       "11997  management    high\n",
       "11998   marketing    high\n",
       "11999          IT     low\n",
       "\n",
       "[11991 rows x 2 columns]"
      ]
     },
     "execution_count": 23,
     "metadata": {},
     "output_type": "execute_result"
    }
   ],
   "source": [
    "categorical_data = data.select_dtypes('object')\n",
    "categorical_data"
   ]
  },
  {
   "cell_type": "code",
   "execution_count": 24,
   "id": "72ea6574-23be-4d4b-a031-2d63fa98d309",
   "metadata": {},
   "outputs": [],
   "source": [
    "from sklearn.preprocessing import LabelEncoder, OneHotEncoder"
   ]
  },
  {
   "cell_type": "code",
   "execution_count": 25,
   "id": "06fe8558-f81a-4c7e-a832-9e27521d21fb",
   "metadata": {},
   "outputs": [],
   "source": [
    "categorical_data['Label_Encoded_Salary'] = categorical_data['salary'].map({'low':0, 'medium': 1, 'high':2})"
   ]
  },
  {
   "cell_type": "code",
   "execution_count": 26,
   "id": "a475f301-46ae-46e5-9ecf-98cd2295bbd9",
   "metadata": {},
   "outputs": [
    {
     "data": {
      "text/html": [
       "<div>\n",
       "<style scoped>\n",
       "    .dataframe tbody tr th:only-of-type {\n",
       "        vertical-align: middle;\n",
       "    }\n",
       "\n",
       "    .dataframe tbody tr th {\n",
       "        vertical-align: top;\n",
       "    }\n",
       "\n",
       "    .dataframe thead th {\n",
       "        text-align: right;\n",
       "    }\n",
       "</style>\n",
       "<table border=\"1\" class=\"dataframe\">\n",
       "  <thead>\n",
       "    <tr style=\"text-align: right;\">\n",
       "      <th></th>\n",
       "      <th>salary</th>\n",
       "      <th>Label_Encoded_Salary</th>\n",
       "    </tr>\n",
       "  </thead>\n",
       "  <tbody>\n",
       "    <tr>\n",
       "      <th>0</th>\n",
       "      <td>low</td>\n",
       "      <td>0</td>\n",
       "    </tr>\n",
       "    <tr>\n",
       "      <th>1</th>\n",
       "      <td>medium</td>\n",
       "      <td>1</td>\n",
       "    </tr>\n",
       "    <tr>\n",
       "      <th>2</th>\n",
       "      <td>medium</td>\n",
       "      <td>1</td>\n",
       "    </tr>\n",
       "    <tr>\n",
       "      <th>3</th>\n",
       "      <td>low</td>\n",
       "      <td>0</td>\n",
       "    </tr>\n",
       "    <tr>\n",
       "      <th>4</th>\n",
       "      <td>low</td>\n",
       "      <td>0</td>\n",
       "    </tr>\n",
       "    <tr>\n",
       "      <th>...</th>\n",
       "      <td>...</td>\n",
       "      <td>...</td>\n",
       "    </tr>\n",
       "    <tr>\n",
       "      <th>11995</th>\n",
       "      <td>high</td>\n",
       "      <td>2</td>\n",
       "    </tr>\n",
       "    <tr>\n",
       "      <th>11996</th>\n",
       "      <td>high</td>\n",
       "      <td>2</td>\n",
       "    </tr>\n",
       "    <tr>\n",
       "      <th>11997</th>\n",
       "      <td>high</td>\n",
       "      <td>2</td>\n",
       "    </tr>\n",
       "    <tr>\n",
       "      <th>11998</th>\n",
       "      <td>high</td>\n",
       "      <td>2</td>\n",
       "    </tr>\n",
       "    <tr>\n",
       "      <th>11999</th>\n",
       "      <td>low</td>\n",
       "      <td>0</td>\n",
       "    </tr>\n",
       "  </tbody>\n",
       "</table>\n",
       "<p>11991 rows × 2 columns</p>\n",
       "</div>"
      ],
      "text/plain": [
       "       salary  Label_Encoded_Salary\n",
       "0         low                     0\n",
       "1      medium                     1\n",
       "2      medium                     1\n",
       "3         low                     0\n",
       "4         low                     0\n",
       "...       ...                   ...\n",
       "11995    high                     2\n",
       "11996    high                     2\n",
       "11997    high                     2\n",
       "11998    high                     2\n",
       "11999     low                     0\n",
       "\n",
       "[11991 rows x 2 columns]"
      ]
     },
     "execution_count": 26,
     "metadata": {},
     "output_type": "execute_result"
    }
   ],
   "source": [
    "categorical_data[['salary','Label_Encoded_Salary']]"
   ]
  },
  {
   "cell_type": "code",
   "execution_count": 27,
   "id": "6be0f8f3-57fa-4744-a8cf-504d7fc7d34b",
   "metadata": {},
   "outputs": [],
   "source": [
    "dummies = pd.get_dummies(categorical_data, columns = ['Department'], dtype = 'int')"
   ]
  },
  {
   "cell_type": "code",
   "execution_count": 28,
   "id": "87070eef-24d1-4a2a-a22b-9f94d7b44ea2",
   "metadata": {},
   "outputs": [
    {
     "data": {
      "text/html": [
       "<div>\n",
       "<style scoped>\n",
       "    .dataframe tbody tr th:only-of-type {\n",
       "        vertical-align: middle;\n",
       "    }\n",
       "\n",
       "    .dataframe tbody tr th {\n",
       "        vertical-align: top;\n",
       "    }\n",
       "\n",
       "    .dataframe thead th {\n",
       "        text-align: right;\n",
       "    }\n",
       "</style>\n",
       "<table border=\"1\" class=\"dataframe\">\n",
       "  <thead>\n",
       "    <tr style=\"text-align: right;\">\n",
       "      <th></th>\n",
       "      <th>salary</th>\n",
       "      <th>Label_Encoded_Salary</th>\n",
       "      <th>Department_IT</th>\n",
       "      <th>Department_RandD</th>\n",
       "      <th>Department_accounting</th>\n",
       "      <th>Department_hr</th>\n",
       "      <th>Department_management</th>\n",
       "      <th>Department_marketing</th>\n",
       "      <th>Department_product_mng</th>\n",
       "      <th>Department_sales</th>\n",
       "      <th>Department_support</th>\n",
       "      <th>Department_technical</th>\n",
       "    </tr>\n",
       "  </thead>\n",
       "  <tbody>\n",
       "    <tr>\n",
       "      <th>0</th>\n",
       "      <td>low</td>\n",
       "      <td>0</td>\n",
       "      <td>0</td>\n",
       "      <td>0</td>\n",
       "      <td>0</td>\n",
       "      <td>0</td>\n",
       "      <td>0</td>\n",
       "      <td>0</td>\n",
       "      <td>0</td>\n",
       "      <td>1</td>\n",
       "      <td>0</td>\n",
       "      <td>0</td>\n",
       "    </tr>\n",
       "    <tr>\n",
       "      <th>1</th>\n",
       "      <td>medium</td>\n",
       "      <td>1</td>\n",
       "      <td>0</td>\n",
       "      <td>0</td>\n",
       "      <td>0</td>\n",
       "      <td>0</td>\n",
       "      <td>0</td>\n",
       "      <td>0</td>\n",
       "      <td>0</td>\n",
       "      <td>1</td>\n",
       "      <td>0</td>\n",
       "      <td>0</td>\n",
       "    </tr>\n",
       "    <tr>\n",
       "      <th>2</th>\n",
       "      <td>medium</td>\n",
       "      <td>1</td>\n",
       "      <td>0</td>\n",
       "      <td>0</td>\n",
       "      <td>0</td>\n",
       "      <td>0</td>\n",
       "      <td>0</td>\n",
       "      <td>0</td>\n",
       "      <td>0</td>\n",
       "      <td>1</td>\n",
       "      <td>0</td>\n",
       "      <td>0</td>\n",
       "    </tr>\n",
       "    <tr>\n",
       "      <th>3</th>\n",
       "      <td>low</td>\n",
       "      <td>0</td>\n",
       "      <td>0</td>\n",
       "      <td>0</td>\n",
       "      <td>0</td>\n",
       "      <td>0</td>\n",
       "      <td>0</td>\n",
       "      <td>0</td>\n",
       "      <td>0</td>\n",
       "      <td>1</td>\n",
       "      <td>0</td>\n",
       "      <td>0</td>\n",
       "    </tr>\n",
       "    <tr>\n",
       "      <th>4</th>\n",
       "      <td>low</td>\n",
       "      <td>0</td>\n",
       "      <td>0</td>\n",
       "      <td>0</td>\n",
       "      <td>0</td>\n",
       "      <td>0</td>\n",
       "      <td>0</td>\n",
       "      <td>0</td>\n",
       "      <td>0</td>\n",
       "      <td>1</td>\n",
       "      <td>0</td>\n",
       "      <td>0</td>\n",
       "    </tr>\n",
       "    <tr>\n",
       "      <th>...</th>\n",
       "      <td>...</td>\n",
       "      <td>...</td>\n",
       "      <td>...</td>\n",
       "      <td>...</td>\n",
       "      <td>...</td>\n",
       "      <td>...</td>\n",
       "      <td>...</td>\n",
       "      <td>...</td>\n",
       "      <td>...</td>\n",
       "      <td>...</td>\n",
       "      <td>...</td>\n",
       "      <td>...</td>\n",
       "    </tr>\n",
       "    <tr>\n",
       "      <th>11995</th>\n",
       "      <td>high</td>\n",
       "      <td>2</td>\n",
       "      <td>0</td>\n",
       "      <td>0</td>\n",
       "      <td>0</td>\n",
       "      <td>0</td>\n",
       "      <td>1</td>\n",
       "      <td>0</td>\n",
       "      <td>0</td>\n",
       "      <td>0</td>\n",
       "      <td>0</td>\n",
       "      <td>0</td>\n",
       "    </tr>\n",
       "    <tr>\n",
       "      <th>11996</th>\n",
       "      <td>high</td>\n",
       "      <td>2</td>\n",
       "      <td>0</td>\n",
       "      <td>0</td>\n",
       "      <td>0</td>\n",
       "      <td>0</td>\n",
       "      <td>1</td>\n",
       "      <td>0</td>\n",
       "      <td>0</td>\n",
       "      <td>0</td>\n",
       "      <td>0</td>\n",
       "      <td>0</td>\n",
       "    </tr>\n",
       "    <tr>\n",
       "      <th>11997</th>\n",
       "      <td>high</td>\n",
       "      <td>2</td>\n",
       "      <td>0</td>\n",
       "      <td>0</td>\n",
       "      <td>0</td>\n",
       "      <td>0</td>\n",
       "      <td>1</td>\n",
       "      <td>0</td>\n",
       "      <td>0</td>\n",
       "      <td>0</td>\n",
       "      <td>0</td>\n",
       "      <td>0</td>\n",
       "    </tr>\n",
       "    <tr>\n",
       "      <th>11998</th>\n",
       "      <td>high</td>\n",
       "      <td>2</td>\n",
       "      <td>0</td>\n",
       "      <td>0</td>\n",
       "      <td>0</td>\n",
       "      <td>0</td>\n",
       "      <td>0</td>\n",
       "      <td>1</td>\n",
       "      <td>0</td>\n",
       "      <td>0</td>\n",
       "      <td>0</td>\n",
       "      <td>0</td>\n",
       "    </tr>\n",
       "    <tr>\n",
       "      <th>11999</th>\n",
       "      <td>low</td>\n",
       "      <td>0</td>\n",
       "      <td>1</td>\n",
       "      <td>0</td>\n",
       "      <td>0</td>\n",
       "      <td>0</td>\n",
       "      <td>0</td>\n",
       "      <td>0</td>\n",
       "      <td>0</td>\n",
       "      <td>0</td>\n",
       "      <td>0</td>\n",
       "      <td>0</td>\n",
       "    </tr>\n",
       "  </tbody>\n",
       "</table>\n",
       "<p>11991 rows × 12 columns</p>\n",
       "</div>"
      ],
      "text/plain": [
       "       salary  Label_Encoded_Salary  Department_IT  Department_RandD  \\\n",
       "0         low                     0              0                 0   \n",
       "1      medium                     1              0                 0   \n",
       "2      medium                     1              0                 0   \n",
       "3         low                     0              0                 0   \n",
       "4         low                     0              0                 0   \n",
       "...       ...                   ...            ...               ...   \n",
       "11995    high                     2              0                 0   \n",
       "11996    high                     2              0                 0   \n",
       "11997    high                     2              0                 0   \n",
       "11998    high                     2              0                 0   \n",
       "11999     low                     0              1                 0   \n",
       "\n",
       "       Department_accounting  Department_hr  Department_management  \\\n",
       "0                          0              0                      0   \n",
       "1                          0              0                      0   \n",
       "2                          0              0                      0   \n",
       "3                          0              0                      0   \n",
       "4                          0              0                      0   \n",
       "...                      ...            ...                    ...   \n",
       "11995                      0              0                      1   \n",
       "11996                      0              0                      1   \n",
       "11997                      0              0                      1   \n",
       "11998                      0              0                      0   \n",
       "11999                      0              0                      0   \n",
       "\n",
       "       Department_marketing  Department_product_mng  Department_sales  \\\n",
       "0                         0                       0                 1   \n",
       "1                         0                       0                 1   \n",
       "2                         0                       0                 1   \n",
       "3                         0                       0                 1   \n",
       "4                         0                       0                 1   \n",
       "...                     ...                     ...               ...   \n",
       "11995                     0                       0                 0   \n",
       "11996                     0                       0                 0   \n",
       "11997                     0                       0                 0   \n",
       "11998                     1                       0                 0   \n",
       "11999                     0                       0                 0   \n",
       "\n",
       "       Department_support  Department_technical  \n",
       "0                       0                     0  \n",
       "1                       0                     0  \n",
       "2                       0                     0  \n",
       "3                       0                     0  \n",
       "4                       0                     0  \n",
       "...                   ...                   ...  \n",
       "11995                   0                     0  \n",
       "11996                   0                     0  \n",
       "11997                   0                     0  \n",
       "11998                   0                     0  \n",
       "11999                   0                     0  \n",
       "\n",
       "[11991 rows x 12 columns]"
      ]
     },
     "execution_count": 28,
     "metadata": {},
     "output_type": "execute_result"
    }
   ],
   "source": [
    "dummies"
   ]
  },
  {
   "cell_type": "code",
   "execution_count": 29,
   "id": "7f56699b-24e9-420f-972c-2a8de81a81d3",
   "metadata": {},
   "outputs": [],
   "source": [
    "merge_data = pd.concat([num_data, dummies], axis = 1, join = \"inner\")"
   ]
  },
  {
   "cell_type": "code",
   "execution_count": 30,
   "id": "65fe6a67-0ea5-4755-bc95-619243944c89",
   "metadata": {},
   "outputs": [
    {
     "data": {
      "text/html": [
       "<div>\n",
       "<style scoped>\n",
       "    .dataframe tbody tr th:only-of-type {\n",
       "        vertical-align: middle;\n",
       "    }\n",
       "\n",
       "    .dataframe tbody tr th {\n",
       "        vertical-align: top;\n",
       "    }\n",
       "\n",
       "    .dataframe thead th {\n",
       "        text-align: right;\n",
       "    }\n",
       "</style>\n",
       "<table border=\"1\" class=\"dataframe\">\n",
       "  <thead>\n",
       "    <tr style=\"text-align: right;\">\n",
       "      <th></th>\n",
       "      <th>satisfaction_level</th>\n",
       "      <th>last_evaluation</th>\n",
       "      <th>number_project</th>\n",
       "      <th>average_montly_hours</th>\n",
       "      <th>time_spend_company</th>\n",
       "      <th>Work_accident</th>\n",
       "      <th>left</th>\n",
       "      <th>promotion_last_5years</th>\n",
       "      <th>salary</th>\n",
       "      <th>Label_Encoded_Salary</th>\n",
       "      <th>Department_IT</th>\n",
       "      <th>Department_RandD</th>\n",
       "      <th>Department_accounting</th>\n",
       "      <th>Department_hr</th>\n",
       "      <th>Department_management</th>\n",
       "      <th>Department_marketing</th>\n",
       "      <th>Department_product_mng</th>\n",
       "      <th>Department_sales</th>\n",
       "      <th>Department_support</th>\n",
       "      <th>Department_technical</th>\n",
       "    </tr>\n",
       "  </thead>\n",
       "  <tbody>\n",
       "    <tr>\n",
       "      <th>0</th>\n",
       "      <td>0.38</td>\n",
       "      <td>0.53</td>\n",
       "      <td>2</td>\n",
       "      <td>157</td>\n",
       "      <td>3</td>\n",
       "      <td>0</td>\n",
       "      <td>1</td>\n",
       "      <td>0</td>\n",
       "      <td>low</td>\n",
       "      <td>0</td>\n",
       "      <td>0</td>\n",
       "      <td>0</td>\n",
       "      <td>0</td>\n",
       "      <td>0</td>\n",
       "      <td>0</td>\n",
       "      <td>0</td>\n",
       "      <td>0</td>\n",
       "      <td>1</td>\n",
       "      <td>0</td>\n",
       "      <td>0</td>\n",
       "    </tr>\n",
       "    <tr>\n",
       "      <th>1</th>\n",
       "      <td>0.80</td>\n",
       "      <td>0.86</td>\n",
       "      <td>5</td>\n",
       "      <td>262</td>\n",
       "      <td>6</td>\n",
       "      <td>0</td>\n",
       "      <td>1</td>\n",
       "      <td>0</td>\n",
       "      <td>medium</td>\n",
       "      <td>1</td>\n",
       "      <td>0</td>\n",
       "      <td>0</td>\n",
       "      <td>0</td>\n",
       "      <td>0</td>\n",
       "      <td>0</td>\n",
       "      <td>0</td>\n",
       "      <td>0</td>\n",
       "      <td>1</td>\n",
       "      <td>0</td>\n",
       "      <td>0</td>\n",
       "    </tr>\n",
       "    <tr>\n",
       "      <th>2</th>\n",
       "      <td>0.11</td>\n",
       "      <td>0.88</td>\n",
       "      <td>7</td>\n",
       "      <td>272</td>\n",
       "      <td>4</td>\n",
       "      <td>0</td>\n",
       "      <td>1</td>\n",
       "      <td>0</td>\n",
       "      <td>medium</td>\n",
       "      <td>1</td>\n",
       "      <td>0</td>\n",
       "      <td>0</td>\n",
       "      <td>0</td>\n",
       "      <td>0</td>\n",
       "      <td>0</td>\n",
       "      <td>0</td>\n",
       "      <td>0</td>\n",
       "      <td>1</td>\n",
       "      <td>0</td>\n",
       "      <td>0</td>\n",
       "    </tr>\n",
       "    <tr>\n",
       "      <th>3</th>\n",
       "      <td>0.72</td>\n",
       "      <td>0.87</td>\n",
       "      <td>5</td>\n",
       "      <td>223</td>\n",
       "      <td>5</td>\n",
       "      <td>0</td>\n",
       "      <td>1</td>\n",
       "      <td>0</td>\n",
       "      <td>low</td>\n",
       "      <td>0</td>\n",
       "      <td>0</td>\n",
       "      <td>0</td>\n",
       "      <td>0</td>\n",
       "      <td>0</td>\n",
       "      <td>0</td>\n",
       "      <td>0</td>\n",
       "      <td>0</td>\n",
       "      <td>1</td>\n",
       "      <td>0</td>\n",
       "      <td>0</td>\n",
       "    </tr>\n",
       "    <tr>\n",
       "      <th>4</th>\n",
       "      <td>0.37</td>\n",
       "      <td>0.52</td>\n",
       "      <td>2</td>\n",
       "      <td>159</td>\n",
       "      <td>3</td>\n",
       "      <td>0</td>\n",
       "      <td>1</td>\n",
       "      <td>0</td>\n",
       "      <td>low</td>\n",
       "      <td>0</td>\n",
       "      <td>0</td>\n",
       "      <td>0</td>\n",
       "      <td>0</td>\n",
       "      <td>0</td>\n",
       "      <td>0</td>\n",
       "      <td>0</td>\n",
       "      <td>0</td>\n",
       "      <td>1</td>\n",
       "      <td>0</td>\n",
       "      <td>0</td>\n",
       "    </tr>\n",
       "    <tr>\n",
       "      <th>...</th>\n",
       "      <td>...</td>\n",
       "      <td>...</td>\n",
       "      <td>...</td>\n",
       "      <td>...</td>\n",
       "      <td>...</td>\n",
       "      <td>...</td>\n",
       "      <td>...</td>\n",
       "      <td>...</td>\n",
       "      <td>...</td>\n",
       "      <td>...</td>\n",
       "      <td>...</td>\n",
       "      <td>...</td>\n",
       "      <td>...</td>\n",
       "      <td>...</td>\n",
       "      <td>...</td>\n",
       "      <td>...</td>\n",
       "      <td>...</td>\n",
       "      <td>...</td>\n",
       "      <td>...</td>\n",
       "      <td>...</td>\n",
       "    </tr>\n",
       "    <tr>\n",
       "      <th>11995</th>\n",
       "      <td>0.90</td>\n",
       "      <td>0.55</td>\n",
       "      <td>3</td>\n",
       "      <td>259</td>\n",
       "      <td>10</td>\n",
       "      <td>1</td>\n",
       "      <td>0</td>\n",
       "      <td>1</td>\n",
       "      <td>high</td>\n",
       "      <td>2</td>\n",
       "      <td>0</td>\n",
       "      <td>0</td>\n",
       "      <td>0</td>\n",
       "      <td>0</td>\n",
       "      <td>1</td>\n",
       "      <td>0</td>\n",
       "      <td>0</td>\n",
       "      <td>0</td>\n",
       "      <td>0</td>\n",
       "      <td>0</td>\n",
       "    </tr>\n",
       "    <tr>\n",
       "      <th>11996</th>\n",
       "      <td>0.74</td>\n",
       "      <td>0.95</td>\n",
       "      <td>5</td>\n",
       "      <td>266</td>\n",
       "      <td>10</td>\n",
       "      <td>0</td>\n",
       "      <td>0</td>\n",
       "      <td>1</td>\n",
       "      <td>high</td>\n",
       "      <td>2</td>\n",
       "      <td>0</td>\n",
       "      <td>0</td>\n",
       "      <td>0</td>\n",
       "      <td>0</td>\n",
       "      <td>1</td>\n",
       "      <td>0</td>\n",
       "      <td>0</td>\n",
       "      <td>0</td>\n",
       "      <td>0</td>\n",
       "      <td>0</td>\n",
       "    </tr>\n",
       "    <tr>\n",
       "      <th>11997</th>\n",
       "      <td>0.85</td>\n",
       "      <td>0.54</td>\n",
       "      <td>3</td>\n",
       "      <td>185</td>\n",
       "      <td>10</td>\n",
       "      <td>0</td>\n",
       "      <td>0</td>\n",
       "      <td>1</td>\n",
       "      <td>high</td>\n",
       "      <td>2</td>\n",
       "      <td>0</td>\n",
       "      <td>0</td>\n",
       "      <td>0</td>\n",
       "      <td>0</td>\n",
       "      <td>1</td>\n",
       "      <td>0</td>\n",
       "      <td>0</td>\n",
       "      <td>0</td>\n",
       "      <td>0</td>\n",
       "      <td>0</td>\n",
       "    </tr>\n",
       "    <tr>\n",
       "      <th>11998</th>\n",
       "      <td>0.33</td>\n",
       "      <td>0.65</td>\n",
       "      <td>3</td>\n",
       "      <td>172</td>\n",
       "      <td>10</td>\n",
       "      <td>0</td>\n",
       "      <td>0</td>\n",
       "      <td>1</td>\n",
       "      <td>high</td>\n",
       "      <td>2</td>\n",
       "      <td>0</td>\n",
       "      <td>0</td>\n",
       "      <td>0</td>\n",
       "      <td>0</td>\n",
       "      <td>0</td>\n",
       "      <td>1</td>\n",
       "      <td>0</td>\n",
       "      <td>0</td>\n",
       "      <td>0</td>\n",
       "      <td>0</td>\n",
       "    </tr>\n",
       "    <tr>\n",
       "      <th>11999</th>\n",
       "      <td>0.50</td>\n",
       "      <td>0.73</td>\n",
       "      <td>4</td>\n",
       "      <td>180</td>\n",
       "      <td>3</td>\n",
       "      <td>0</td>\n",
       "      <td>0</td>\n",
       "      <td>0</td>\n",
       "      <td>low</td>\n",
       "      <td>0</td>\n",
       "      <td>1</td>\n",
       "      <td>0</td>\n",
       "      <td>0</td>\n",
       "      <td>0</td>\n",
       "      <td>0</td>\n",
       "      <td>0</td>\n",
       "      <td>0</td>\n",
       "      <td>0</td>\n",
       "      <td>0</td>\n",
       "      <td>0</td>\n",
       "    </tr>\n",
       "  </tbody>\n",
       "</table>\n",
       "<p>11991 rows × 20 columns</p>\n",
       "</div>"
      ],
      "text/plain": [
       "       satisfaction_level  last_evaluation  number_project  \\\n",
       "0                    0.38             0.53               2   \n",
       "1                    0.80             0.86               5   \n",
       "2                    0.11             0.88               7   \n",
       "3                    0.72             0.87               5   \n",
       "4                    0.37             0.52               2   \n",
       "...                   ...              ...             ...   \n",
       "11995                0.90             0.55               3   \n",
       "11996                0.74             0.95               5   \n",
       "11997                0.85             0.54               3   \n",
       "11998                0.33             0.65               3   \n",
       "11999                0.50             0.73               4   \n",
       "\n",
       "       average_montly_hours  time_spend_company  Work_accident  left  \\\n",
       "0                       157                   3              0     1   \n",
       "1                       262                   6              0     1   \n",
       "2                       272                   4              0     1   \n",
       "3                       223                   5              0     1   \n",
       "4                       159                   3              0     1   \n",
       "...                     ...                 ...            ...   ...   \n",
       "11995                   259                  10              1     0   \n",
       "11996                   266                  10              0     0   \n",
       "11997                   185                  10              0     0   \n",
       "11998                   172                  10              0     0   \n",
       "11999                   180                   3              0     0   \n",
       "\n",
       "       promotion_last_5years  salary  Label_Encoded_Salary  Department_IT  \\\n",
       "0                          0     low                     0              0   \n",
       "1                          0  medium                     1              0   \n",
       "2                          0  medium                     1              0   \n",
       "3                          0     low                     0              0   \n",
       "4                          0     low                     0              0   \n",
       "...                      ...     ...                   ...            ...   \n",
       "11995                      1    high                     2              0   \n",
       "11996                      1    high                     2              0   \n",
       "11997                      1    high                     2              0   \n",
       "11998                      1    high                     2              0   \n",
       "11999                      0     low                     0              1   \n",
       "\n",
       "       Department_RandD  Department_accounting  Department_hr  \\\n",
       "0                     0                      0              0   \n",
       "1                     0                      0              0   \n",
       "2                     0                      0              0   \n",
       "3                     0                      0              0   \n",
       "4                     0                      0              0   \n",
       "...                 ...                    ...            ...   \n",
       "11995                 0                      0              0   \n",
       "11996                 0                      0              0   \n",
       "11997                 0                      0              0   \n",
       "11998                 0                      0              0   \n",
       "11999                 0                      0              0   \n",
       "\n",
       "       Department_management  Department_marketing  Department_product_mng  \\\n",
       "0                          0                     0                       0   \n",
       "1                          0                     0                       0   \n",
       "2                          0                     0                       0   \n",
       "3                          0                     0                       0   \n",
       "4                          0                     0                       0   \n",
       "...                      ...                   ...                     ...   \n",
       "11995                      1                     0                       0   \n",
       "11996                      1                     0                       0   \n",
       "11997                      1                     0                       0   \n",
       "11998                      0                     1                       0   \n",
       "11999                      0                     0                       0   \n",
       "\n",
       "       Department_sales  Department_support  Department_technical  \n",
       "0                     1                   0                     0  \n",
       "1                     1                   0                     0  \n",
       "2                     1                   0                     0  \n",
       "3                     1                   0                     0  \n",
       "4                     1                   0                     0  \n",
       "...                 ...                 ...                   ...  \n",
       "11995                 0                   0                     0  \n",
       "11996                 0                   0                     0  \n",
       "11997                 0                   0                     0  \n",
       "11998                 0                   0                     0  \n",
       "11999                 0                   0                     0  \n",
       "\n",
       "[11991 rows x 20 columns]"
      ]
     },
     "execution_count": 30,
     "metadata": {},
     "output_type": "execute_result"
    }
   ],
   "source": [
    "merge_data"
   ]
  },
  {
   "cell_type": "code",
   "execution_count": 31,
   "id": "60cae309-62cf-44ef-a778-e9a94205a3af",
   "metadata": {},
   "outputs": [],
   "source": [
    "merge_data.drop(columns = ['salary'], inplace = True)"
   ]
  },
  {
   "cell_type": "code",
   "execution_count": 32,
   "id": "9e19a4f1-0759-4243-a88c-43b4bd39f872",
   "metadata": {},
   "outputs": [
    {
     "data": {
      "text/html": [
       "<div>\n",
       "<style scoped>\n",
       "    .dataframe tbody tr th:only-of-type {\n",
       "        vertical-align: middle;\n",
       "    }\n",
       "\n",
       "    .dataframe tbody tr th {\n",
       "        vertical-align: top;\n",
       "    }\n",
       "\n",
       "    .dataframe thead th {\n",
       "        text-align: right;\n",
       "    }\n",
       "</style>\n",
       "<table border=\"1\" class=\"dataframe\">\n",
       "  <thead>\n",
       "    <tr style=\"text-align: right;\">\n",
       "      <th></th>\n",
       "      <th>satisfaction_level</th>\n",
       "      <th>last_evaluation</th>\n",
       "      <th>number_project</th>\n",
       "      <th>average_montly_hours</th>\n",
       "      <th>time_spend_company</th>\n",
       "      <th>Work_accident</th>\n",
       "      <th>left</th>\n",
       "      <th>promotion_last_5years</th>\n",
       "      <th>Label_Encoded_Salary</th>\n",
       "      <th>Department_IT</th>\n",
       "      <th>Department_RandD</th>\n",
       "      <th>Department_accounting</th>\n",
       "      <th>Department_hr</th>\n",
       "      <th>Department_management</th>\n",
       "      <th>Department_marketing</th>\n",
       "      <th>Department_product_mng</th>\n",
       "      <th>Department_sales</th>\n",
       "      <th>Department_support</th>\n",
       "      <th>Department_technical</th>\n",
       "    </tr>\n",
       "  </thead>\n",
       "  <tbody>\n",
       "    <tr>\n",
       "      <th>0</th>\n",
       "      <td>0.38</td>\n",
       "      <td>0.53</td>\n",
       "      <td>2</td>\n",
       "      <td>157</td>\n",
       "      <td>3</td>\n",
       "      <td>0</td>\n",
       "      <td>1</td>\n",
       "      <td>0</td>\n",
       "      <td>0</td>\n",
       "      <td>0</td>\n",
       "      <td>0</td>\n",
       "      <td>0</td>\n",
       "      <td>0</td>\n",
       "      <td>0</td>\n",
       "      <td>0</td>\n",
       "      <td>0</td>\n",
       "      <td>1</td>\n",
       "      <td>0</td>\n",
       "      <td>0</td>\n",
       "    </tr>\n",
       "    <tr>\n",
       "      <th>1</th>\n",
       "      <td>0.80</td>\n",
       "      <td>0.86</td>\n",
       "      <td>5</td>\n",
       "      <td>262</td>\n",
       "      <td>6</td>\n",
       "      <td>0</td>\n",
       "      <td>1</td>\n",
       "      <td>0</td>\n",
       "      <td>1</td>\n",
       "      <td>0</td>\n",
       "      <td>0</td>\n",
       "      <td>0</td>\n",
       "      <td>0</td>\n",
       "      <td>0</td>\n",
       "      <td>0</td>\n",
       "      <td>0</td>\n",
       "      <td>1</td>\n",
       "      <td>0</td>\n",
       "      <td>0</td>\n",
       "    </tr>\n",
       "    <tr>\n",
       "      <th>2</th>\n",
       "      <td>0.11</td>\n",
       "      <td>0.88</td>\n",
       "      <td>7</td>\n",
       "      <td>272</td>\n",
       "      <td>4</td>\n",
       "      <td>0</td>\n",
       "      <td>1</td>\n",
       "      <td>0</td>\n",
       "      <td>1</td>\n",
       "      <td>0</td>\n",
       "      <td>0</td>\n",
       "      <td>0</td>\n",
       "      <td>0</td>\n",
       "      <td>0</td>\n",
       "      <td>0</td>\n",
       "      <td>0</td>\n",
       "      <td>1</td>\n",
       "      <td>0</td>\n",
       "      <td>0</td>\n",
       "    </tr>\n",
       "    <tr>\n",
       "      <th>3</th>\n",
       "      <td>0.72</td>\n",
       "      <td>0.87</td>\n",
       "      <td>5</td>\n",
       "      <td>223</td>\n",
       "      <td>5</td>\n",
       "      <td>0</td>\n",
       "      <td>1</td>\n",
       "      <td>0</td>\n",
       "      <td>0</td>\n",
       "      <td>0</td>\n",
       "      <td>0</td>\n",
       "      <td>0</td>\n",
       "      <td>0</td>\n",
       "      <td>0</td>\n",
       "      <td>0</td>\n",
       "      <td>0</td>\n",
       "      <td>1</td>\n",
       "      <td>0</td>\n",
       "      <td>0</td>\n",
       "    </tr>\n",
       "    <tr>\n",
       "      <th>4</th>\n",
       "      <td>0.37</td>\n",
       "      <td>0.52</td>\n",
       "      <td>2</td>\n",
       "      <td>159</td>\n",
       "      <td>3</td>\n",
       "      <td>0</td>\n",
       "      <td>1</td>\n",
       "      <td>0</td>\n",
       "      <td>0</td>\n",
       "      <td>0</td>\n",
       "      <td>0</td>\n",
       "      <td>0</td>\n",
       "      <td>0</td>\n",
       "      <td>0</td>\n",
       "      <td>0</td>\n",
       "      <td>0</td>\n",
       "      <td>1</td>\n",
       "      <td>0</td>\n",
       "      <td>0</td>\n",
       "    </tr>\n",
       "    <tr>\n",
       "      <th>...</th>\n",
       "      <td>...</td>\n",
       "      <td>...</td>\n",
       "      <td>...</td>\n",
       "      <td>...</td>\n",
       "      <td>...</td>\n",
       "      <td>...</td>\n",
       "      <td>...</td>\n",
       "      <td>...</td>\n",
       "      <td>...</td>\n",
       "      <td>...</td>\n",
       "      <td>...</td>\n",
       "      <td>...</td>\n",
       "      <td>...</td>\n",
       "      <td>...</td>\n",
       "      <td>...</td>\n",
       "      <td>...</td>\n",
       "      <td>...</td>\n",
       "      <td>...</td>\n",
       "      <td>...</td>\n",
       "    </tr>\n",
       "    <tr>\n",
       "      <th>11995</th>\n",
       "      <td>0.90</td>\n",
       "      <td>0.55</td>\n",
       "      <td>3</td>\n",
       "      <td>259</td>\n",
       "      <td>10</td>\n",
       "      <td>1</td>\n",
       "      <td>0</td>\n",
       "      <td>1</td>\n",
       "      <td>2</td>\n",
       "      <td>0</td>\n",
       "      <td>0</td>\n",
       "      <td>0</td>\n",
       "      <td>0</td>\n",
       "      <td>1</td>\n",
       "      <td>0</td>\n",
       "      <td>0</td>\n",
       "      <td>0</td>\n",
       "      <td>0</td>\n",
       "      <td>0</td>\n",
       "    </tr>\n",
       "    <tr>\n",
       "      <th>11996</th>\n",
       "      <td>0.74</td>\n",
       "      <td>0.95</td>\n",
       "      <td>5</td>\n",
       "      <td>266</td>\n",
       "      <td>10</td>\n",
       "      <td>0</td>\n",
       "      <td>0</td>\n",
       "      <td>1</td>\n",
       "      <td>2</td>\n",
       "      <td>0</td>\n",
       "      <td>0</td>\n",
       "      <td>0</td>\n",
       "      <td>0</td>\n",
       "      <td>1</td>\n",
       "      <td>0</td>\n",
       "      <td>0</td>\n",
       "      <td>0</td>\n",
       "      <td>0</td>\n",
       "      <td>0</td>\n",
       "    </tr>\n",
       "    <tr>\n",
       "      <th>11997</th>\n",
       "      <td>0.85</td>\n",
       "      <td>0.54</td>\n",
       "      <td>3</td>\n",
       "      <td>185</td>\n",
       "      <td>10</td>\n",
       "      <td>0</td>\n",
       "      <td>0</td>\n",
       "      <td>1</td>\n",
       "      <td>2</td>\n",
       "      <td>0</td>\n",
       "      <td>0</td>\n",
       "      <td>0</td>\n",
       "      <td>0</td>\n",
       "      <td>1</td>\n",
       "      <td>0</td>\n",
       "      <td>0</td>\n",
       "      <td>0</td>\n",
       "      <td>0</td>\n",
       "      <td>0</td>\n",
       "    </tr>\n",
       "    <tr>\n",
       "      <th>11998</th>\n",
       "      <td>0.33</td>\n",
       "      <td>0.65</td>\n",
       "      <td>3</td>\n",
       "      <td>172</td>\n",
       "      <td>10</td>\n",
       "      <td>0</td>\n",
       "      <td>0</td>\n",
       "      <td>1</td>\n",
       "      <td>2</td>\n",
       "      <td>0</td>\n",
       "      <td>0</td>\n",
       "      <td>0</td>\n",
       "      <td>0</td>\n",
       "      <td>0</td>\n",
       "      <td>1</td>\n",
       "      <td>0</td>\n",
       "      <td>0</td>\n",
       "      <td>0</td>\n",
       "      <td>0</td>\n",
       "    </tr>\n",
       "    <tr>\n",
       "      <th>11999</th>\n",
       "      <td>0.50</td>\n",
       "      <td>0.73</td>\n",
       "      <td>4</td>\n",
       "      <td>180</td>\n",
       "      <td>3</td>\n",
       "      <td>0</td>\n",
       "      <td>0</td>\n",
       "      <td>0</td>\n",
       "      <td>0</td>\n",
       "      <td>1</td>\n",
       "      <td>0</td>\n",
       "      <td>0</td>\n",
       "      <td>0</td>\n",
       "      <td>0</td>\n",
       "      <td>0</td>\n",
       "      <td>0</td>\n",
       "      <td>0</td>\n",
       "      <td>0</td>\n",
       "      <td>0</td>\n",
       "    </tr>\n",
       "  </tbody>\n",
       "</table>\n",
       "<p>11991 rows × 19 columns</p>\n",
       "</div>"
      ],
      "text/plain": [
       "       satisfaction_level  last_evaluation  number_project  \\\n",
       "0                    0.38             0.53               2   \n",
       "1                    0.80             0.86               5   \n",
       "2                    0.11             0.88               7   \n",
       "3                    0.72             0.87               5   \n",
       "4                    0.37             0.52               2   \n",
       "...                   ...              ...             ...   \n",
       "11995                0.90             0.55               3   \n",
       "11996                0.74             0.95               5   \n",
       "11997                0.85             0.54               3   \n",
       "11998                0.33             0.65               3   \n",
       "11999                0.50             0.73               4   \n",
       "\n",
       "       average_montly_hours  time_spend_company  Work_accident  left  \\\n",
       "0                       157                   3              0     1   \n",
       "1                       262                   6              0     1   \n",
       "2                       272                   4              0     1   \n",
       "3                       223                   5              0     1   \n",
       "4                       159                   3              0     1   \n",
       "...                     ...                 ...            ...   ...   \n",
       "11995                   259                  10              1     0   \n",
       "11996                   266                  10              0     0   \n",
       "11997                   185                  10              0     0   \n",
       "11998                   172                  10              0     0   \n",
       "11999                   180                   3              0     0   \n",
       "\n",
       "       promotion_last_5years  Label_Encoded_Salary  Department_IT  \\\n",
       "0                          0                     0              0   \n",
       "1                          0                     1              0   \n",
       "2                          0                     1              0   \n",
       "3                          0                     0              0   \n",
       "4                          0                     0              0   \n",
       "...                      ...                   ...            ...   \n",
       "11995                      1                     2              0   \n",
       "11996                      1                     2              0   \n",
       "11997                      1                     2              0   \n",
       "11998                      1                     2              0   \n",
       "11999                      0                     0              1   \n",
       "\n",
       "       Department_RandD  Department_accounting  Department_hr  \\\n",
       "0                     0                      0              0   \n",
       "1                     0                      0              0   \n",
       "2                     0                      0              0   \n",
       "3                     0                      0              0   \n",
       "4                     0                      0              0   \n",
       "...                 ...                    ...            ...   \n",
       "11995                 0                      0              0   \n",
       "11996                 0                      0              0   \n",
       "11997                 0                      0              0   \n",
       "11998                 0                      0              0   \n",
       "11999                 0                      0              0   \n",
       "\n",
       "       Department_management  Department_marketing  Department_product_mng  \\\n",
       "0                          0                     0                       0   \n",
       "1                          0                     0                       0   \n",
       "2                          0                     0                       0   \n",
       "3                          0                     0                       0   \n",
       "4                          0                     0                       0   \n",
       "...                      ...                   ...                     ...   \n",
       "11995                      1                     0                       0   \n",
       "11996                      1                     0                       0   \n",
       "11997                      1                     0                       0   \n",
       "11998                      0                     1                       0   \n",
       "11999                      0                     0                       0   \n",
       "\n",
       "       Department_sales  Department_support  Department_technical  \n",
       "0                     1                   0                     0  \n",
       "1                     1                   0                     0  \n",
       "2                     1                   0                     0  \n",
       "3                     1                   0                     0  \n",
       "4                     1                   0                     0  \n",
       "...                 ...                 ...                   ...  \n",
       "11995                 0                   0                     0  \n",
       "11996                 0                   0                     0  \n",
       "11997                 0                   0                     0  \n",
       "11998                 0                   0                     0  \n",
       "11999                 0                   0                     0  \n",
       "\n",
       "[11991 rows x 19 columns]"
      ]
     },
     "execution_count": 32,
     "metadata": {},
     "output_type": "execute_result"
    }
   ],
   "source": [
    "merge_data"
   ]
  },
  {
   "cell_type": "markdown",
   "id": "dfbbfe5f-e3d6-4008-bbbc-2b59fba7aa0b",
   "metadata": {},
   "source": [
    "#### Perform split of data into train_test"
   ]
  },
  {
   "cell_type": "code",
   "execution_count": 33,
   "id": "1be9e8b3-b824-4043-a4f1-9e7f7818d80a",
   "metadata": {},
   "outputs": [],
   "source": [
    "from sklearn.model_selection import train_test_split"
   ]
  },
  {
   "cell_type": "code",
   "execution_count": 34,
   "id": "717a6041-b851-4eb9-af26-a41c5c48c1e2",
   "metadata": {},
   "outputs": [],
   "source": [
    "X = merge_data.drop(\"left\", axis = 1)\n",
    "y = merge_data[\"left\"]"
   ]
  },
  {
   "cell_type": "code",
   "execution_count": 35,
   "id": "a904e0be-e9a7-49ef-bdcf-9ffc1316cb58",
   "metadata": {},
   "outputs": [
    {
     "data": {
      "text/plain": [
       "left\n",
       "0    10000\n",
       "1     1991\n",
       "Name: count, dtype: int64"
      ]
     },
     "execution_count": 35,
     "metadata": {},
     "output_type": "execute_result"
    }
   ],
   "source": [
    "y.value_counts()"
   ]
  },
  {
   "cell_type": "markdown",
   "id": "9a508c7d-4d53-4e86-8234-cbf6c2e2e0ae",
   "metadata": {},
   "source": [
    "#### From the above output we can see that there is class imbalance in the target variable. For this reason we have to perform stratified split of data when performing the train/test split"
   ]
  },
  {
   "cell_type": "code",
   "execution_count": 36,
   "id": "d413936f-0f54-4dbb-9677-30490d1a7a2f",
   "metadata": {},
   "outputs": [],
   "source": [
    "X_train, X_test, y_train, y_test = train_test_split(X, y, test_size = 0.2, random_state = 123)"
   ]
  },
  {
   "cell_type": "code",
   "execution_count": 37,
   "id": "fa6d5aaf-266b-4dc1-bfe7-6d5cfa2ba192",
   "metadata": {},
   "outputs": [
    {
     "name": "stdout",
     "output_type": "stream",
     "text": [
      "left\n",
      "0    7991\n",
      "1    1601\n",
      "Name: count, dtype: int64 left\n",
      "0    2009\n",
      "1     390\n",
      "Name: count, dtype: int64\n"
     ]
    }
   ],
   "source": [
    "print(y_train.value_counts(),y_test.value_counts())"
   ]
  },
  {
   "cell_type": "code",
   "execution_count": null,
   "id": "5a9d95e9-169f-4124-9ea2-723356334a74",
   "metadata": {},
   "outputs": [],
   "source": []
  },
  {
   "cell_type": "markdown",
   "id": "80f226c8-75df-42c0-bb96-4badc714a189",
   "metadata": {},
   "source": [
    "#### From the above output we can see that there is class imbalance of the target variable. This will be rectified using SMOTE technique after column transformation in the section below."
   ]
  },
  {
   "cell_type": "markdown",
   "id": "85f15974-5b57-4506-ac40-c2f664513b3b",
   "metadata": {},
   "source": [
    "### Over sampling for removing class imbalance"
   ]
  },
  {
   "cell_type": "markdown",
   "id": "1d69550d-930e-4f11-868e-21c0febaa423",
   "metadata": {},
   "source": [
    "#### Since there is class imbalance we need to perform SMOTE (Sytthetic Minority Oversampling) to ensure that there is balance between 'left':0 and 'left':1 in train data. Note SMOTE wil not be run on test data."
   ]
  },
  {
   "cell_type": "code",
   "execution_count": 38,
   "id": "278b2b95-9f5c-49d3-aa36-0d9c5e73bfd6",
   "metadata": {},
   "outputs": [],
   "source": [
    "from imblearn.over_sampling import SMOTE"
   ]
  },
  {
   "cell_type": "code",
   "execution_count": null,
   "id": "4a3532f9-9dfa-44ff-b216-41ce785dd0af",
   "metadata": {},
   "outputs": [],
   "source": []
  },
  {
   "cell_type": "code",
   "execution_count": 39,
   "id": "c17be73d-0495-47cd-83ec-5669fa719355",
   "metadata": {},
   "outputs": [],
   "source": [
    "sm = SMOTE()\n",
    "X_train_sm, y_train_sm = sm.fit_resample(X_train, y_train)"
   ]
  },
  {
   "cell_type": "code",
   "execution_count": 40,
   "id": "3d9d632f-9b9d-4c09-8f8e-c69b75879039",
   "metadata": {},
   "outputs": [
    {
     "name": "stdout",
     "output_type": "stream",
     "text": [
      "Original shape: (9592, 18) (9592,)\n",
      "SMOTE sample shape: (15982, 18) (15982,)\n",
      "left\n",
      "0    7991\n",
      "1    7991\n",
      "Name: count, dtype: int64\n"
     ]
    }
   ],
   "source": [
    "print(\"Original shape:\", X_train.shape, y_train.shape)\n",
    "print (\"SMOTE sample shape:\", X_train_sm.shape, y_train_sm.shape)\n",
    "print(y_train_sm.value_counts())"
   ]
  },
  {
   "cell_type": "markdown",
   "id": "1f14e924-78e3-4f57-b026-3df5fdef320f",
   "metadata": {},
   "source": [
    "### Model training and evaluating performance"
   ]
  },
  {
   "cell_type": "code",
   "execution_count": 41,
   "id": "dd4bfc0a-f1b3-4143-93b4-af369acb4906",
   "metadata": {},
   "outputs": [],
   "source": [
    " from sklearn.linear_model import LogisticRegression\n",
    "from sklearn.ensemble import RandomForestClassifier\n",
    "from sklearn.metrics import classification_report, roc_auc_score, confusion_matrix, roc_curve\n",
    "from sklearn.model_selection import cross_val_score\n",
    "from sklearn.ensemble import GradientBoostingClassifier\n",
    "from sklearn.metrics import mean_squared_error, r2_score\n",
    "from sklearn.model_selection import GridSearchCV"
   ]
  },
  {
   "cell_type": "markdown",
   "id": "f77dba3f-2727-4d74-9fa6-c3d3d5d01c6a",
   "metadata": {},
   "source": [
    "### Logistic Regression"
   ]
  },
  {
   "cell_type": "code",
   "execution_count": 42,
   "id": "a2cc51d0-a601-4655-ac1c-dbdfcc134c31",
   "metadata": {},
   "outputs": [],
   "source": [
    "logreg = LogisticRegression(solver='lbfgs', max_iter=10000)\n",
    "logreg.fit(X_train,y_train)\n",
    "y_pred = logreg.predict(X_test)"
   ]
  },
  {
   "cell_type": "code",
   "execution_count": 43,
   "id": "f755dc4e-6eb5-4c15-82ec-aa904426ca9d",
   "metadata": {},
   "outputs": [
    {
     "name": "stdout",
     "output_type": "stream",
     "text": [
      "0.8289184875899368\n",
      "RMSE  :- 0.40782263265813457\n",
      "R2 SCORE  :- -0.2216831948539264\n"
     ]
    }
   ],
   "source": [
    "print(cross_val_score(logreg, X_train, y_train, cv=5).mean())\n",
    "print(\"RMSE  :-\", np.sqrt(mean_squared_error(y_test, y_pred)))\n",
    "print(\"R2 SCORE  :-\", r2_score(y_test, y_pred))"
   ]
  },
  {
   "cell_type": "code",
   "execution_count": 44,
   "id": "4d4ae29f-bf50-419f-b8db-cffec2e4c439",
   "metadata": {},
   "outputs": [
    {
     "data": {
      "text/plain": [
       "array([[1938,   71],\n",
       "       [ 328,   62]], dtype=int64)"
      ]
     },
     "execution_count": 44,
     "metadata": {},
     "output_type": "execute_result"
    }
   ],
   "source": [
    "confusion_matrix(y_test,y_pred)     "
   ]
  },
  {
   "cell_type": "code",
   "execution_count": 45,
   "id": "983402dd-8a23-4af6-a1cd-10df808128af",
   "metadata": {},
   "outputs": [
    {
     "name": "stdout",
     "output_type": "stream",
     "text": [
      "              precision    recall  f1-score   support\n",
      "\n",
      "           0       0.86      0.96      0.91      2009\n",
      "           1       0.47      0.16      0.24       390\n",
      "\n",
      "    accuracy                           0.83      2399\n",
      "   macro avg       0.66      0.56      0.57      2399\n",
      "weighted avg       0.79      0.83      0.80      2399\n",
      "\n"
     ]
    }
   ],
   "source": [
    "print(classification_report(y_test,y_pred))"
   ]
  },
  {
   "cell_type": "code",
   "execution_count": 46,
   "id": "ecc2aa29-d7b0-4338-8223-0965e9f8cbf1",
   "metadata": {},
   "outputs": [
    {
     "data": {
      "text/plain": [
       "0.5618166966599022"
      ]
     },
     "execution_count": 46,
     "metadata": {},
     "output_type": "execute_result"
    }
   ],
   "source": [
    "roc_auc_score(y_test,y_pred)"
   ]
  },
  {
   "cell_type": "code",
   "execution_count": 47,
   "id": "5bcbf8e4-8d86-47a0-b0f6-c6f8958e0b2a",
   "metadata": {},
   "outputs": [
    {
     "data": {
      "image/png": "[encoded data removed]",
      "text/plain": [
       "<Figure size 640x480 with 1 Axes>"
      ]
     },
     "metadata": {},
     "output_type": "display_data"
    }
   ],
   "source": [
    "fpr, tpr, thresh = roc_curve(y_test, y_pred)\n",
    "roc_auc = roc_auc_score(y_test, y_pred)\n",
    "\n",
    "# method I: plt\n",
    "plt.title('Receiver Operating Characteristic for Logistic Regression')\n",
    "plt.plot(fpr, tpr, 'b', label = 'AUC = %0.2f' % roc_auc)\n",
    "plt.legend(loc = 'lower right')\n",
    "plt.plot([0, 1], [0, 1],'r--')\n",
    "plt.xlim([0, 1])\n",
    "plt.ylim([0, 1])\n",
    "plt.ylabel('True Positive Rate')\n",
    "plt.xlabel('False Positive Rate')\n",
    "plt.show()"
   ]
  },
  {
   "cell_type": "markdown",
   "id": "41767f48-2a4b-4a47-b36f-a172b1664782",
   "metadata": {},
   "source": [
    "### Random Forest Classifier"
   ]
  },
  {
   "cell_type": "code",
   "execution_count": 48,
   "id": "e326478d-2c50-4d5e-b852-910e832dba1a",
   "metadata": {},
   "outputs": [],
   "source": [
    "random = RandomForestClassifier(max_depth=5)\n",
    "random.fit(X_train,y_train)\n",
    "y_pred1 = random.predict(X_test)"
   ]
  },
  {
   "cell_type": "code",
   "execution_count": 49,
   "id": "c32a753e-4c48-4287-88a2-9bd419500cee",
   "metadata": {},
   "outputs": [
    {
     "name": "stdout",
     "output_type": "stream",
     "text": [
      "0.9432853290268384\n",
      "RMSE  :- 0.24500002126736387\n",
      "R2 SCORE  :- 0.5590917793008385\n"
     ]
    }
   ],
   "source": [
    "print(cross_val_score(random, X_train, y_train, cv=5).mean())\n",
    "print(\"RMSE  :-\", np.sqrt(mean_squared_error(y_test, y_pred1)))\n",
    "print(\"R2 SCORE  :-\", r2_score(y_test, y_pred1))"
   ]
  },
  {
   "cell_type": "code",
   "execution_count": 50,
   "id": "7c55319b-0814-450a-871c-cd38f0e829d5",
   "metadata": {},
   "outputs": [
    {
     "data": {
      "text/plain": [
       "array([[2001,    8],\n",
       "       [ 136,  254]], dtype=int64)"
      ]
     },
     "execution_count": 50,
     "metadata": {},
     "output_type": "execute_result"
    }
   ],
   "source": [
    "confusion_matrix(y_test,y_pred1)  "
   ]
  },
  {
   "cell_type": "code",
   "execution_count": 51,
   "id": "366b9327-2fff-4a0e-89cb-80a386e4901f",
   "metadata": {},
   "outputs": [
    {
     "name": "stdout",
     "output_type": "stream",
     "text": [
      "              precision    recall  f1-score   support\n",
      "\n",
      "           0       0.94      1.00      0.97      2009\n",
      "           1       0.97      0.65      0.78       390\n",
      "\n",
      "    accuracy                           0.94      2399\n",
      "   macro avg       0.95      0.82      0.87      2399\n",
      "weighted avg       0.94      0.94      0.94      2399\n",
      "\n"
     ]
    }
   ],
   "source": [
    "print(classification_report(y_test,y_pred1))"
   ]
  },
  {
   "cell_type": "code",
   "execution_count": 52,
   "id": "a3bf2b6e-46c3-41fb-b882-facd8312f2d5",
   "metadata": {},
   "outputs": [
    {
     "data": {
      "text/plain": [
       "0.8236499853224591"
      ]
     },
     "execution_count": 52,
     "metadata": {},
     "output_type": "execute_result"
    }
   ],
   "source": [
    "roc_auc_score(y_test,y_pred1)"
   ]
  },
  {
   "cell_type": "code",
   "execution_count": 53,
   "id": "ac5885e7-8bb9-4496-aaab-f6c8e89787ee",
   "metadata": {},
   "outputs": [
    {
     "data": {
      "image/png": "[encoded data removed]",
      "text/plain": [
       "<Figure size 640x480 with 1 Axes>"
      ]
     },
     "metadata": {},
     "output_type": "display_data"
    }
   ],
   "source": [
    "fpr, tpr, thresh = roc_curve(y_test, y_pred1)\n",
    "roc_auc = roc_auc_score(y_test, y_pred1)\n",
    "\n",
    "# method I: plt\n",
    "plt.title('Receiver Operating Characteristic for Random Forest')\n",
    "plt.plot(fpr, tpr, 'b', label = 'AUC = %0.2f' % roc_auc)\n",
    "plt.legend(loc = 'lower right')\n",
    "plt.plot([0, 1], [0, 1],'r--')\n",
    "plt.xlim([0, 1])\n",
    "plt.ylim([0, 1])\n",
    "plt.ylabel('True Positive Rate')\n",
    "plt.xlabel('False Positive Rate')\n",
    "plt.show()"
   ]
  },
  {
   "cell_type": "markdown",
   "id": "ab45c63b-cd88-41da-bc74-eeb8446f04ad",
   "metadata": {},
   "source": [
    "### Grdaient Bossting Classifier"
   ]
  },
  {
   "cell_type": "code",
   "execution_count": 54,
   "id": "278952e0-c766-4dfe-849b-289e1f2cd350",
   "metadata": {},
   "outputs": [],
   "source": [
    "gb = GradientBoostingClassifier(n_estimators=100, learning_rate=1.0,max_depth=1, random_state=0)\n",
    "gb.fit(X_train,y_train)\n",
    "y_pred2 = gb.predict(X_test)"
   ]
  },
  {
   "cell_type": "code",
   "execution_count": 55,
   "id": "07f2d157-8368-423c-838d-b42aac7922db",
   "metadata": {},
   "outputs": [
    {
     "name": "stdout",
     "output_type": "stream",
     "text": [
      "0.943076887130017\n",
      "RMSE  :- 0.18600470172043826\n",
      "R2 SCORE  :- 0.7458654005692333\n"
     ]
    }
   ],
   "source": [
    "print(cross_val_score(random, X_train, y_train, cv=5).mean())\n",
    "print(\"RMSE  :-\", np.sqrt(mean_squared_error(y_test, y_pred2)))\n",
    "print(\"R2 SCORE  :-\", r2_score(y_test, y_pred2))"
   ]
  },
  {
   "cell_type": "code",
   "execution_count": 56,
   "id": "5066877d-6063-4d64-8c6b-600c6580b536",
   "metadata": {},
   "outputs": [
    {
     "data": {
      "text/plain": [
       "array([[1960,   49],\n",
       "       [  34,  356]], dtype=int64)"
      ]
     },
     "execution_count": 56,
     "metadata": {},
     "output_type": "execute_result"
    }
   ],
   "source": [
    "confusion_matrix(y_test,y_pred2)"
   ]
  },
  {
   "cell_type": "code",
   "execution_count": 57,
   "id": "c10f456d-c2aa-4a0a-a370-690ffd49561b",
   "metadata": {},
   "outputs": [
    {
     "name": "stdout",
     "output_type": "stream",
     "text": [
      "              precision    recall  f1-score   support\n",
      "\n",
      "           0       0.98      0.98      0.98      2009\n",
      "           1       0.88      0.91      0.90       390\n",
      "\n",
      "    accuracy                           0.97      2399\n",
      "   macro avg       0.93      0.94      0.94      2399\n",
      "weighted avg       0.97      0.97      0.97      2399\n",
      "\n"
     ]
    }
   ],
   "source": [
    "print(classification_report(y_test,y_pred2))"
   ]
  },
  {
   "cell_type": "code",
   "execution_count": 58,
   "id": "bb353bb3-d6cd-4b17-9774-394098a6d544",
   "metadata": {},
   "outputs": [
    {
     "data": {
      "text/plain": [
       "0.9442151344590368"
      ]
     },
     "execution_count": 58,
     "metadata": {},
     "output_type": "execute_result"
    }
   ],
   "source": [
    "roc_auc_score(y_test,y_pred2)"
   ]
  },
  {
   "cell_type": "code",
   "execution_count": 59,
   "id": "2452f899-c082-4d44-ba53-9133d5ae1366",
   "metadata": {},
   "outputs": [
    {
     "data": {
      "image/png": "[encoded data removed]",
      "text/plain": [
       "<Figure size 640x480 with 1 Axes>"
      ]
     },
     "metadata": {},
     "output_type": "display_data"
    }
   ],
   "source": [
    "fpr, tpr, thresh = roc_curve(y_test, y_pred2)\n",
    "roc_auc = roc_auc_score(y_test, y_pred2)\n",
    "\n",
    "# method I: plt\n",
    "plt.title('Receiver Operating Characteristic for Random Forest')\n",
    "plt.plot(fpr, tpr, 'b', label = 'AUC = %0.2f' % roc_auc)\n",
    "plt.legend(loc = 'lower right')\n",
    "plt.plot([0, 1], [0, 1],'r--')\n",
    "plt.xlim([0, 1])\n",
    "plt.ylim([0, 1])\n",
    "plt.ylabel('True Positive Rate')\n",
    "plt.xlabel('False Positive Rate')\n",
    "plt.show()"
   ]
  },
  {
   "cell_type": "markdown",
   "id": "59129be3-fce8-48f5-97a3-962943e7f99c",
   "metadata": {},
   "source": [
    "### \n",
    "Since Random Forest shows the highest accuracy with good f1 score, we will conclude that to be our best performing model.\n",
    "\n",
    "Based on the confusion matrix, the false negatives should be low because if an employee who might leave the organisation is misclassified as someone who won't leave then proper strategies to retain that person will not be implemented on him or her. Hence Recall is better metric to be used\r\n",
    "\r\n"
   ]
  },
  {
   "cell_type": "code",
   "execution_count": 60,
   "id": "b4f1d519-4204-4795-9b84-799f67a754d0",
   "metadata": {},
   "outputs": [],
   "source": [
    "col = X_train.columns"
   ]
  },
  {
   "cell_type": "code",
   "execution_count": 61,
   "id": "1e1484c4-db2a-4629-82ec-dbf0bbb46ed1",
   "metadata": {},
   "outputs": [
    {
     "data": {
      "text/plain": [
       "Index(['satisfaction_level', 'last_evaluation', 'number_project',\n",
       "       'average_montly_hours', 'time_spend_company', 'Work_accident',\n",
       "       'promotion_last_5years', 'Label_Encoded_Salary', 'Department_IT',\n",
       "       'Department_RandD', 'Department_accounting', 'Department_hr',\n",
       "       'Department_management', 'Department_marketing',\n",
       "       'Department_product_mng', 'Department_sales', 'Department_support',\n",
       "       'Department_technical'],\n",
       "      dtype='object')"
      ]
     },
     "execution_count": 61,
     "metadata": {},
     "output_type": "execute_result"
    }
   ],
   "source": [
    "col"
   ]
  },
  {
   "cell_type": "code",
   "execution_count": 62,
   "id": "161e5deb-fd64-4290-a2ca-2eb84f41ae2e",
   "metadata": {},
   "outputs": [],
   "source": [
    "feature_labels = np.array(col)"
   ]
  },
  {
   "cell_type": "code",
   "execution_count": 63,
   "id": "36571fe9-ba60-456b-a466-acbbb1f9838a",
   "metadata": {},
   "outputs": [
    {
     "name": "stdout",
     "output_type": "stream",
     "text": [
      "Department_product_mng-0.01%\n",
      "Department_sales-0.01%\n",
      "Department_accounting-0.02%\n",
      "Department_marketing-0.02%\n",
      "Department_IT-0.03%\n",
      "Department_support-0.03%\n",
      "Department_technical-0.03%\n",
      "Department_hr-0.03%\n",
      "Department_management-0.05%\n",
      "Department_RandD-0.06%\n",
      "promotion_last_5years-0.08%\n",
      "Label_Encoded_Salary-0.62%\n",
      "Work_accident-1.02%\n",
      "last_evaluation-11.17%\n",
      "time_spend_company-14.23%\n",
      "average_montly_hours-15.61%\n",
      "number_project-23.03%\n",
      "satisfaction_level-33.95%\n"
     ]
    }
   ],
   "source": [
    "importance = random.feature_importances_\n",
    "feature_indexes_by_importance = importance.argsort()\n",
    "for index in feature_indexes_by_importance:\n",
    "    print('{}-{:.2f}%'.format(feature_labels[index], (importance[index] *100.0)))\n",
    "     "
   ]
  },
  {
   "cell_type": "markdown",
   "id": "e14dae22-b515-4d22-b80d-e1d65182fafd",
   "metadata": {},
   "source": [
    "###\n",
    "The above lists the factors that influences the turnover in the ascending order. It can be identified that the employee turnover is highly influenced by the employee's satisfaction level in the organisation. Improvement of work culture within the organiation can be a good way to prevent the employees from leaving the organisation."
   ]
  },
  {
   "cell_type": "code",
   "execution_count": 64,
   "id": "a2126996-1df9-48b3-b518-a1e6b33e6b61",
   "metadata": {},
   "outputs": [],
   "source": [
    "predict_probability = random.predict_proba(X_test)"
   ]
  },
  {
   "cell_type": "code",
   "execution_count": 65,
   "id": "4c6c5de5-0881-44d5-aa6c-9a1460a97b3e",
   "metadata": {},
   "outputs": [
    {
     "data": {
      "text/plain": [
       "array([0.05232722, 0.14309626, 0.13087261, ..., 0.03459606, 0.08649344,\n",
       "       0.02591829])"
      ]
     },
     "execution_count": 65,
     "metadata": {},
     "output_type": "execute_result"
    }
   ],
   "source": [
    "predict_probability[:,1]"
   ]
  },
  {
   "cell_type": "code",
   "execution_count": 66,
   "id": "81ff2d0f-987b-4099-bc03-2ff4542cb247",
   "metadata": {},
   "outputs": [],
   "source": [
    "zone=[]\n",
    "prob=[]\n",
    "\n",
    "for i in predict_probability[:,1]:\n",
    "  prob.append(i)\n",
    "  if (i<=0.2):\n",
    "    zone.append(\"Safe Zone\")    \n",
    "  elif (i>0.2 and i<=0.6):\n",
    "    zone.append(\"Low Risk Zone\")\n",
    "  elif (i>0.6 and i<=0.9):\n",
    "    zone.append(\"Medium Risk Zone \")\n",
    "  else:\n",
    "    zone.append(\"High Risk Zone \")\n"
   ]
  },
  {
   "cell_type": "code",
   "execution_count": 67,
   "id": "3c893071-fc9c-4838-afdf-e1878ba1b6c7",
   "metadata": {},
   "outputs": [],
   "source": [
    "categories = [\"Safe Zone\",\"Low Risk Zone\",\"Medium Risk Zone \",\"High Risk Zone \"]\n",
    "color = [\"Green\",\"Yellow\",\"Orange\",\"Red\"]"
   ]
  },
  {
   "cell_type": "code",
   "execution_count": 68,
   "id": "c4e881ae-cda7-4e82-bc86-e885d1120007",
   "metadata": {},
   "outputs": [],
   "source": [
    "colordict = dict(zip(categories, color))"
   ]
  },
  {
   "cell_type": "code",
   "execution_count": 69,
   "id": "3d7e6a30-1f31-4401-a934-6ab8ac897303",
   "metadata": {},
   "outputs": [],
   "source": [
    "clr = pd.DataFrame({\"zone\":zone,\"probability\":prob})"
   ]
  },
  {
   "cell_type": "code",
   "execution_count": 70,
   "id": "7dd91e3b-2d43-44a2-b0c6-304d94a23d99",
   "metadata": {},
   "outputs": [
    {
     "data": {
      "text/plain": [
       "array(['Safe Zone', 'Low Risk Zone', 'Medium Risk Zone ',\n",
       "       'High Risk Zone '], dtype=object)"
      ]
     },
     "execution_count": 70,
     "metadata": {},
     "output_type": "execute_result"
    }
   ],
   "source": [
    "clr[\"zone\"].unique()"
   ]
  },
  {
   "cell_type": "code",
   "execution_count": 71,
   "id": "0a9ac182-ae3f-45f1-8e6c-237c3992ca87",
   "metadata": {},
   "outputs": [],
   "source": [
    "clr[\"Color\"] = clr[\"zone\"].apply(lambda x: colordict[x])"
   ]
  },
  {
   "cell_type": "code",
   "execution_count": 72,
   "id": "6a725dab-e082-4bdd-91c0-d53951852e49",
   "metadata": {},
   "outputs": [
    {
     "data": {
      "text/html": [
       "<div>\n",
       "<style scoped>\n",
       "    .dataframe tbody tr th:only-of-type {\n",
       "        vertical-align: middle;\n",
       "    }\n",
       "\n",
       "    .dataframe tbody tr th {\n",
       "        vertical-align: top;\n",
       "    }\n",
       "\n",
       "    .dataframe thead th {\n",
       "        text-align: right;\n",
       "    }\n",
       "</style>\n",
       "<table border=\"1\" class=\"dataframe\">\n",
       "  <thead>\n",
       "    <tr style=\"text-align: right;\">\n",
       "      <th></th>\n",
       "      <th>zone</th>\n",
       "      <th>probability</th>\n",
       "      <th>Color</th>\n",
       "    </tr>\n",
       "  </thead>\n",
       "  <tbody>\n",
       "    <tr>\n",
       "      <th>0</th>\n",
       "      <td>Safe Zone</td>\n",
       "      <td>0.052327</td>\n",
       "      <td>Green</td>\n",
       "    </tr>\n",
       "    <tr>\n",
       "      <th>1</th>\n",
       "      <td>Safe Zone</td>\n",
       "      <td>0.143096</td>\n",
       "      <td>Green</td>\n",
       "    </tr>\n",
       "    <tr>\n",
       "      <th>2</th>\n",
       "      <td>Safe Zone</td>\n",
       "      <td>0.130873</td>\n",
       "      <td>Green</td>\n",
       "    </tr>\n",
       "    <tr>\n",
       "      <th>3</th>\n",
       "      <td>Safe Zone</td>\n",
       "      <td>0.154650</td>\n",
       "      <td>Green</td>\n",
       "    </tr>\n",
       "    <tr>\n",
       "      <th>4</th>\n",
       "      <td>Safe Zone</td>\n",
       "      <td>0.077523</td>\n",
       "      <td>Green</td>\n",
       "    </tr>\n",
       "    <tr>\n",
       "      <th>5</th>\n",
       "      <td>Safe Zone</td>\n",
       "      <td>0.019646</td>\n",
       "      <td>Green</td>\n",
       "    </tr>\n",
       "    <tr>\n",
       "      <th>6</th>\n",
       "      <td>Safe Zone</td>\n",
       "      <td>0.028682</td>\n",
       "      <td>Green</td>\n",
       "    </tr>\n",
       "    <tr>\n",
       "      <th>7</th>\n",
       "      <td>Low Risk Zone</td>\n",
       "      <td>0.306479</td>\n",
       "      <td>Yellow</td>\n",
       "    </tr>\n",
       "    <tr>\n",
       "      <th>8</th>\n",
       "      <td>Safe Zone</td>\n",
       "      <td>0.040594</td>\n",
       "      <td>Green</td>\n",
       "    </tr>\n",
       "    <tr>\n",
       "      <th>9</th>\n",
       "      <td>Low Risk Zone</td>\n",
       "      <td>0.207993</td>\n",
       "      <td>Yellow</td>\n",
       "    </tr>\n",
       "  </tbody>\n",
       "</table>\n",
       "</div>"
      ],
      "text/plain": [
       "            zone  probability   Color\n",
       "0      Safe Zone     0.052327   Green\n",
       "1      Safe Zone     0.143096   Green\n",
       "2      Safe Zone     0.130873   Green\n",
       "3      Safe Zone     0.154650   Green\n",
       "4      Safe Zone     0.077523   Green\n",
       "5      Safe Zone     0.019646   Green\n",
       "6      Safe Zone     0.028682   Green\n",
       "7  Low Risk Zone     0.306479  Yellow\n",
       "8      Safe Zone     0.040594   Green\n",
       "9  Low Risk Zone     0.207993  Yellow"
      ]
     },
     "execution_count": 72,
     "metadata": {},
     "output_type": "execute_result"
    }
   ],
   "source": [
    "clr.head(10)"
   ]
  },
  {
   "cell_type": "code",
   "execution_count": 73,
   "id": "867b0e71-99fc-4f85-a81e-2e3277e51577",
   "metadata": {},
   "outputs": [],
   "source": [
    "color= clr[\"Color\"].tolist()"
   ]
  },
  {
   "cell_type": "code",
   "execution_count": 74,
   "id": "51ab7a83-9530-45de-af72-5a1cd0c0b724",
   "metadata": {},
   "outputs": [],
   "source": [
    "c = [\"Green\",\"Red\",\"Orange\",\"Yellow\"]"
   ]
  },
  {
   "cell_type": "code",
   "execution_count": 75,
   "id": "65558a45-9975-4b43-81c1-59c62e30301a",
   "metadata": {},
   "outputs": [
    {
     "name": "stderr",
     "output_type": "stream",
     "text": [
      "D:\\New folder\\Lib\\site-packages\\seaborn\\_oldcore.py:1765: FutureWarning: unique with argument that is not not a Series, Index, ExtensionArray, or np.ndarray is deprecated and will raise in a future version.\n",
      "  order = pd.unique(vector)\n"
     ]
    },
    {
     "data": {
      "text/plain": [
       "<Axes: ylabel='count'>"
      ]
     },
     "execution_count": 75,
     "metadata": {},
     "output_type": "execute_result"
    },
    {
     "data": {
      "image/png": "[encoded data removed]",
      "text/plain": [
       "<Figure size 700x700 with 1 Axes>"
      ]
     },
     "metadata": {},
     "output_type": "display_data"
    }
   ],
   "source": [
    "plt.figure(figsize=(7,7))\n",
    "sns.countplot(x = zone,palette=c)"
   ]
  },
  {
   "cell_type": "markdown",
   "id": "76f0292b-fd8d-4542-931d-7208ccbdb1a3",
   "metadata": {},
   "source": [
    "### \n",
    "From the above visual, the following retention strategies can be devised:\r\n",
    "- A vast majority of employees with low and medium salaries lie in the safe attrition zone.\n",
    "\n",
    "- A significant number of employees in the high and low risk attrition zone lie in the low and medium salary levels. Management may want to review the salaries of these employees to reduce the risk of attrition of these employeesees"
   ]
  },
  {
   "cell_type": "code",
   "execution_count": null,
   "id": "25a2d1ac-def3-4a10-b258-0ee1486d0b3f",
   "metadata": {},
   "outputs": [],
   "source": []
  },
  {
   "cell_type": "code",
   "execution_count": null,
   "id": "475e6879-a433-49c5-886a-b77defb1a828",
   "metadata": {},
   "outputs": [],
   "source": []
  }
 ],
 "metadata": {
  "kernelspec": {
   "display_name": "Python 3 (ipykernel)",
   "language": "python",
   "name": "python3"
  },
  "language_info": {
   "codemirror_mode": {
    "name": "ipython",
    "version": 3
   },
   "file_extension": ".py",
   "mimetype": "text/x-python",
   "name": "python",
   "nbconvert_exporter": "python",
   "pygments_lexer": "ipython3",
   "version": "3.11.7"
  }
 },
 "nbformat": 4,
 "nbformat_minor": 5
}
